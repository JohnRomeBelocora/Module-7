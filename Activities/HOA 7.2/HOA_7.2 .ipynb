{
 "cells": [
  {
   "cell_type": "markdown",
   "id": "53dd050e-4eca-47c9-8493-820d1ac31ddb",
   "metadata": {},
   "source": [
    "# **Gathering image data using webcam**\n",
    "**Name: John Rome A. Belocora**\n",
    "\n",
    "**Section: CPE22S3**\n",
    "\n",
    "**Date Submitted: 03/24/2024**"
   ]
  },
  {
   "cell_type": "code",
   "execution_count": null,
   "id": "c7897f60-e8ff-468e-863a-638486d05646",
   "metadata": {},
   "outputs": [],
   "source": [
    "# Pc no webcam\n",
    "import cv2\n",
    "from google.colab.patches import cv2_imshow\n",
    "key = cv2. waitKey(1)\n",
    "webcam = cv2.VideoCapture(0)\n",
    "while True:\n",
    "    try:\n",
    "        check, frame = webcam.read()\n",
    "        print(check) #prints true as long as the webcam is running\n",
    "        print(frame) #prints matrix values of each framecd\n",
    "        cv2.imshow(\"Capturing\", frame)\n",
    "        key = cv2.waitKey(1)\n",
    "        if key == ord('s'):\n",
    "            cv2.imwrite(filename='saved_img.jpg', img=frame)\n",
    "            webcam.release()\n",
    "            img_new = cv2.imread('saved_img.jpg', cv2.IMREAD_GRAYSCALE)\n",
    "            img_new = cv2.imshow(\"Captured Image\", img_new)\n",
    "            cv2.waitKey(1650)\n",
    "            cv2.destroyAllWindows()\n",
    "            print(\"Processing image...\")\n",
    "            img_ = cv2.imread('saved_img.jpg', cv2.IMREAD_ANYCOLOR)\n",
    "            print(\"Converting RGB image to grayscale...\")\n",
    "            gray = cv2.cvtColor(img_, cv2.COLOR_BGR2GRAY)\n",
    "            print(\"Converted RGB image to grayscale...\")\n",
    "            print(\"Resizing image to 28x28 scale...\")\n",
    "            img_ = cv2.resize(gray,(28,28))\n",
    "            print(\"Resized...\")\n",
    "            img_resized = cv2.imwrite(filename='saved_img-final.jpg', img=img_)\n",
    "            print(\"Image saved!\")\n",
    "\n",
    "            break\n",
    "        elif key == ord('q'):\n",
    "            print(\"Turning off camera.\")\n",
    "            webcam.release()\n",
    "            print(\"Camera off.\")\n",
    "            print(\"Program ended.\")\n",
    "            cv2.destroyAllWindows()\n",
    "            break\n",
    "\n",
    "    except(KeyboardInterrupt):\n",
    "        print(\"Turning off camera.\")\n",
    "        webcam.release()\n",
    "        print(\"Camera off.\")\n",
    "        print(\"Program ended.\")\n",
    "        cv2.destroyAllWindows()\n",
    "        break"
   ]
  },
  {
   "cell_type": "markdown",
   "id": "bb370ef4-6c2a-41f3-84c0-15e3c72808a8",
   "metadata": {},
   "source": [
    "# **Gathering voice data using microphone**"
   ]
  },
  {
   "cell_type": "code",
   "execution_count": 2,
   "id": "126f5dd6-7bff-4aae-bac0-cb0619163881",
   "metadata": {},
   "outputs": [
    {
     "name": "stdout",
     "output_type": "stream",
     "text": [
      "Requirement already satisfied: sounddevice in d:\\anaconda\\lib\\site-packages (0.4.6)\n",
      "Requirement already satisfied: CFFI>=1.0 in d:\\anaconda\\lib\\site-packages (from sounddevice) (1.16.0)\n",
      "Requirement already satisfied: pycparser in d:\\anaconda\\lib\\site-packages (from CFFI>=1.0->sounddevice) (2.21)\n"
     ]
    }
   ],
   "source": [
    "!pip3 install sounddevice"
   ]
  },
  {
   "cell_type": "code",
   "execution_count": 3,
   "id": "40328990-083c-4206-9352-6b585a6cc621",
   "metadata": {},
   "outputs": [
    {
     "name": "stdout",
     "output_type": "stream",
     "text": [
      "Collecting wavio\n",
      "  Downloading wavio-0.0.8-py3-none-any.whl.metadata (5.7 kB)\n",
      "Requirement already satisfied: numpy>=1.19.0 in d:\\anaconda\\lib\\site-packages (from wavio) (1.26.4)\n",
      "Downloading wavio-0.0.8-py3-none-any.whl (9.4 kB)\n",
      "Installing collected packages: wavio\n",
      "Successfully installed wavio-0.0.8\n"
     ]
    }
   ],
   "source": [
    "!pip3 install wavio"
   ]
  },
  {
   "cell_type": "code",
   "execution_count": 4,
   "id": "2a09ccc6-eb30-4ec7-97d5-0ce43eefdf0d",
   "metadata": {},
   "outputs": [
    {
     "name": "stdout",
     "output_type": "stream",
     "text": [
      "Requirement already satisfied: scipy in d:\\anaconda\\lib\\site-packages (1.11.4)\n",
      "Requirement already satisfied: numpy<1.28.0,>=1.21.6 in d:\\anaconda\\lib\\site-packages (from scipy) (1.26.4)\n"
     ]
    }
   ],
   "source": [
    "!pip3 install scipy"
   ]
  },
  {
   "cell_type": "code",
   "execution_count": 151,
   "id": "39a4c675-a691-41cd-bfa9-51c0199471e0",
   "metadata": {},
   "outputs": [
    {
     "name": "stdout",
     "output_type": "stream",
     "text": [
      "Recording...\n",
      "Ending Recording...\n"
     ]
    }
   ],
   "source": [
    "# import required libraries\n",
    "import sounddevice as sd\n",
    "from scipy.io.wavfile import write\n",
    "import wavio as wv\n",
    "\n",
    "# Sampling frequency\n",
    "freq = 44100\n",
    "\n",
    "# Recording duration\n",
    "duration = 5\n",
    "\n",
    "# Start recorder with the given values\n",
    "# of duration and sample frequency\n",
    "recording = sd.rec(int(duration * freq),\n",
    "                   samplerate=freq, channels=2)\n",
    "\n",
    "# This will output if the microphone will begin to do the recording\n",
    "print('Recording...')\n",
    "\n",
    "# Record audio for the given number of seconds\n",
    "sd.wait()\n",
    "\n",
    "# This will output if the microphone will end the recording\n",
    "print('Ending Recording...')\n",
    "\n",
    "# This will convert the NumPy array to an audio\n",
    "# file with the given sampling frequency\n",
    "write(\"recording0.wav\", freq, recording)\n",
    "\n",
    "# Convert the NumPy array to audio file\n",
    "wv.write(\"recording1.wav\", recording, freq, sampwidth=2)"
   ]
  },
  {
   "cell_type": "markdown",
   "id": "04e0eeba-aa1a-42e2-a80b-f72c203e2b63",
   "metadata": {},
   "source": [
    "# **Image Scraping using BeautifulSoup and Request**"
   ]
  },
  {
   "cell_type": "code",
   "execution_count": 6,
   "id": "02e50f32-9657-4886-beda-f91c5b3d0141",
   "metadata": {},
   "outputs": [
    {
     "name": "stdout",
     "output_type": "stream",
     "text": [
      "Collecting bs4\n",
      "  Downloading bs4-0.0.2-py2.py3-none-any.whl.metadata (411 bytes)\n",
      "Requirement already satisfied: beautifulsoup4 in d:\\anaconda\\lib\\site-packages (from bs4) (4.12.2)\n",
      "Requirement already satisfied: soupsieve>1.2 in d:\\anaconda\\lib\\site-packages (from beautifulsoup4->bs4) (2.5)\n",
      "Downloading bs4-0.0.2-py2.py3-none-any.whl (1.2 kB)\n",
      "Installing collected packages: bs4\n",
      "Successfully installed bs4-0.0.2\n"
     ]
    }
   ],
   "source": [
    "!pip install bs4"
   ]
  },
  {
   "cell_type": "code",
   "execution_count": 7,
   "id": "1355a171-d67a-4939-99b2-e21adc9cf190",
   "metadata": {},
   "outputs": [
    {
     "name": "stdout",
     "output_type": "stream",
     "text": [
      "Requirement already satisfied: requests in d:\\anaconda\\lib\\site-packages (2.31.0)\n",
      "Requirement already satisfied: charset-normalizer<4,>=2 in d:\\anaconda\\lib\\site-packages (from requests) (2.0.4)\n",
      "Requirement already satisfied: idna<4,>=2.5 in d:\\anaconda\\lib\\site-packages (from requests) (3.4)\n",
      "Requirement already satisfied: urllib3<3,>=1.21.1 in d:\\anaconda\\lib\\site-packages (from requests) (2.0.7)\n",
      "Requirement already satisfied: certifi>=2017.4.17 in d:\\anaconda\\lib\\site-packages (from requests) (2024.2.2)\n",
      "Note: you may need to restart the kernel to use updated packages.\n"
     ]
    }
   ],
   "source": [
    "pip install requests"
   ]
  },
  {
   "cell_type": "code",
   "execution_count": 8,
   "id": "5bdb0a69-be90-4419-a1e7-9b5c45adae95",
   "metadata": {},
   "outputs": [
    {
     "name": "stdout",
     "output_type": "stream",
     "text": [
      "/images/branding/googlelogo/1x/googlelogo_white_background_color_272x92dp.png\n"
     ]
    }
   ],
   "source": [
    "import requests\n",
    "from bs4 import BeautifulSoup\n",
    "\n",
    "def getdata(url):\n",
    " r = requests.get(url)\n",
    " return r.text\n",
    "\n",
    "htmldata = getdata(\"https://www.google.com/\")\n",
    "soup = BeautifulSoup(htmldata, 'html.parser')\n",
    "for item in soup.find_all('img'):\n",
    " print(item['src'])"
   ]
  },
  {
   "cell_type": "code",
   "execution_count": 9,
   "id": "274fca74-aac9-467f-8698-082ede6c67df",
   "metadata": {},
   "outputs": [
    {
     "name": "stdout",
     "output_type": "stream",
     "text": [
      "Collecting selenium\n",
      "  Downloading selenium-4.18.1-py3-none-any.whl.metadata (6.9 kB)\n",
      "Requirement already satisfied: urllib3<3,>=1.26 in d:\\anaconda\\lib\\site-packages (from urllib3[socks]<3,>=1.26->selenium) (2.0.7)\n",
      "Collecting trio~=0.17 (from selenium)\n",
      "  Downloading trio-0.25.0-py3-none-any.whl.metadata (8.7 kB)\n",
      "Collecting trio-websocket~=0.9 (from selenium)\n",
      "  Downloading trio_websocket-0.11.1-py3-none-any.whl.metadata (4.7 kB)\n",
      "Requirement already satisfied: certifi>=2021.10.8 in d:\\anaconda\\lib\\site-packages (from selenium) (2024.2.2)\n",
      "Requirement already satisfied: typing_extensions>=4.9.0 in d:\\anaconda\\lib\\site-packages (from selenium) (4.9.0)\n",
      "Collecting attrs>=23.2.0 (from trio~=0.17->selenium)\n",
      "  Downloading attrs-23.2.0-py3-none-any.whl.metadata (9.5 kB)\n",
      "Requirement already satisfied: sortedcontainers in d:\\anaconda\\lib\\site-packages (from trio~=0.17->selenium) (2.4.0)\n",
      "Requirement already satisfied: idna in d:\\anaconda\\lib\\site-packages (from trio~=0.17->selenium) (3.4)\n",
      "Collecting outcome (from trio~=0.17->selenium)\n",
      "  Downloading outcome-1.3.0.post0-py2.py3-none-any.whl.metadata (2.6 kB)\n",
      "Requirement already satisfied: sniffio>=1.3.0 in d:\\anaconda\\lib\\site-packages (from trio~=0.17->selenium) (1.3.0)\n",
      "Requirement already satisfied: cffi>=1.14 in d:\\anaconda\\lib\\site-packages (from trio~=0.17->selenium) (1.16.0)\n",
      "Collecting wsproto>=0.14 (from trio-websocket~=0.9->selenium)\n",
      "  Downloading wsproto-1.2.0-py3-none-any.whl.metadata (5.6 kB)\n",
      "Requirement already satisfied: pysocks!=1.5.7,<2.0,>=1.5.6 in d:\\anaconda\\lib\\site-packages (from urllib3[socks]<3,>=1.26->selenium) (1.7.1)\n",
      "Requirement already satisfied: pycparser in d:\\anaconda\\lib\\site-packages (from cffi>=1.14->trio~=0.17->selenium) (2.21)\n",
      "Collecting h11<1,>=0.9.0 (from wsproto>=0.14->trio-websocket~=0.9->selenium)\n",
      "  Downloading h11-0.14.0-py3-none-any.whl.metadata (8.2 kB)\n",
      "Downloading selenium-4.18.1-py3-none-any.whl (10.0 MB)\n",
      "   ---------------------------------------- 0.0/10.0 MB ? eta -:--:--\n",
      "   - -------------------------------------- 0.4/10.0 MB 12.8 MB/s eta 0:00:01\n",
      "   --- ------------------------------------ 1.0/10.0 MB 12.3 MB/s eta 0:00:01\n",
      "   ------ --------------------------------- 1.5/10.0 MB 12.2 MB/s eta 0:00:01\n",
      "   -------- ------------------------------- 2.1/10.0 MB 12.0 MB/s eta 0:00:01\n",
      "   ---------- ----------------------------- 2.6/10.0 MB 12.0 MB/s eta 0:00:01\n",
      "   ------------ --------------------------- 3.2/10.0 MB 11.9 MB/s eta 0:00:01\n",
      "   -------------- ------------------------- 3.7/10.0 MB 11.9 MB/s eta 0:00:01\n",
      "   ----------------- ---------------------- 4.3/10.0 MB 11.8 MB/s eta 0:00:01\n",
      "   ------------------- -------------------- 4.8/10.0 MB 11.8 MB/s eta 0:00:01\n",
      "   --------------------- ------------------ 5.4/10.0 MB 11.8 MB/s eta 0:00:01\n",
      "   ----------------------- ---------------- 5.9/10.0 MB 11.8 MB/s eta 0:00:01\n",
      "   ------------------------- -------------- 6.5/10.0 MB 11.8 MB/s eta 0:00:01\n",
      "   ---------------------------- ----------- 7.0/10.0 MB 11.8 MB/s eta 0:00:01\n",
      "   ------------------------------ --------- 7.6/10.0 MB 11.8 MB/s eta 0:00:01\n",
      "   -------------------------------- ------- 8.1/10.0 MB 11.8 MB/s eta 0:00:01\n",
      "   ---------------------------------- ----- 8.7/10.0 MB 11.8 MB/s eta 0:00:01\n",
      "   ------------------------------------ --- 9.2/10.0 MB 11.8 MB/s eta 0:00:01\n",
      "   ---------------------------------------  9.8/10.0 MB 11.8 MB/s eta 0:00:01\n",
      "   ---------------------------------------  10.0/10.0 MB 11.8 MB/s eta 0:00:01\n",
      "   ---------------------------------------  10.0/10.0 MB 11.8 MB/s eta 0:00:01\n",
      "   ---------------------------------------  10.0/10.0 MB 11.8 MB/s eta 0:00:01\n",
      "   ---------------------------------------  10.0/10.0 MB 11.8 MB/s eta 0:00:01\n",
      "   ---------------------------------------- 10.0/10.0 MB 9.5 MB/s eta 0:00:00\n",
      "Downloading trio-0.25.0-py3-none-any.whl (467 kB)\n",
      "   ---------------------------------------- 0.0/467.2 kB ? eta -:--:--\n",
      "   --------------------------------------  460.8/467.2 kB 14.5 MB/s eta 0:00:01\n",
      "   ---------------------------------------- 467.2/467.2 kB 9.7 MB/s eta 0:00:00\n",
      "Downloading trio_websocket-0.11.1-py3-none-any.whl (17 kB)\n",
      "Downloading attrs-23.2.0-py3-none-any.whl (60 kB)\n",
      "   ---------------------------------------- 0.0/60.8 kB ? eta -:--:--\n",
      "   ---------------------------------------- 60.8/60.8 kB ? eta 0:00:00\n",
      "Downloading wsproto-1.2.0-py3-none-any.whl (24 kB)\n",
      "Downloading outcome-1.3.0.post0-py2.py3-none-any.whl (10 kB)\n",
      "Downloading h11-0.14.0-py3-none-any.whl (58 kB)\n",
      "   ---------------------------------------- 0.0/58.3 kB ? eta -:--:--\n",
      "   ---------------------------------------- 58.3/58.3 kB 3.0 MB/s eta 0:00:00\n",
      "Installing collected packages: h11, attrs, wsproto, outcome, trio, trio-websocket, selenium\n",
      "  Attempting uninstall: attrs\n",
      "    Found existing installation: attrs 23.1.0\n",
      "    Uninstalling attrs-23.1.0:\n",
      "      Successfully uninstalled attrs-23.1.0\n",
      "Successfully installed attrs-23.2.0 h11-0.14.0 outcome-1.3.0.post0 selenium-4.18.1 trio-0.25.0 trio-websocket-0.11.1 wsproto-1.2.0\n",
      "Note: you may need to restart the kernel to use updated packages.\n"
     ]
    }
   ],
   "source": [
    "pip install selenium"
   ]
  },
  {
   "cell_type": "markdown",
   "id": "07991d0f-97ac-4114-8373-fd63dda01526",
   "metadata": {},
   "source": [
    "# **Image Scraping using Selenium**"
   ]
  },
  {
   "cell_type": "code",
   "execution_count": 171,
   "id": "5d9af7e9-09c7-45c7-b9d7-3365b10e5776",
   "metadata": {},
   "outputs": [
    {
     "name": "stdout",
     "output_type": "stream",
     "text": [
      "Requirement already satisfied: selenium in d:\\anaconda\\lib\\site-packages (4.18.1)\n",
      "Requirement already satisfied: urllib3<3,>=1.26 in d:\\anaconda\\lib\\site-packages (from urllib3[socks]<3,>=1.26->selenium) (2.0.7)\n",
      "Requirement already satisfied: trio~=0.17 in d:\\anaconda\\lib\\site-packages (from selenium) (0.25.0)\n",
      "Requirement already satisfied: trio-websocket~=0.9 in d:\\anaconda\\lib\\site-packages (from selenium) (0.11.1)\n",
      "Requirement already satisfied: certifi>=2021.10.8 in d:\\anaconda\\lib\\site-packages (from selenium) (2024.2.2)\n",
      "Requirement already satisfied: typing_extensions>=4.9.0 in d:\\anaconda\\lib\\site-packages (from selenium) (4.9.0)\n",
      "Requirement already satisfied: attrs>=23.2.0 in d:\\anaconda\\lib\\site-packages (from trio~=0.17->selenium) (23.2.0)\n",
      "Requirement already satisfied: sortedcontainers in d:\\anaconda\\lib\\site-packages (from trio~=0.17->selenium) (2.4.0)\n",
      "Requirement already satisfied: idna in d:\\anaconda\\lib\\site-packages (from trio~=0.17->selenium) (3.4)\n",
      "Requirement already satisfied: outcome in d:\\anaconda\\lib\\site-packages (from trio~=0.17->selenium) (1.3.0.post0)\n",
      "Requirement already satisfied: sniffio>=1.3.0 in d:\\anaconda\\lib\\site-packages (from trio~=0.17->selenium) (1.3.0)\n",
      "Requirement already satisfied: cffi>=1.14 in d:\\anaconda\\lib\\site-packages (from trio~=0.17->selenium) (1.16.0)\n",
      "Requirement already satisfied: wsproto>=0.14 in d:\\anaconda\\lib\\site-packages (from trio-websocket~=0.9->selenium) (1.2.0)\n",
      "Requirement already satisfied: pysocks!=1.5.7,<2.0,>=1.5.6 in d:\\anaconda\\lib\\site-packages (from urllib3[socks]<3,>=1.26->selenium) (1.7.1)\n",
      "Requirement already satisfied: pycparser in d:\\anaconda\\lib\\site-packages (from cffi>=1.14->trio~=0.17->selenium) (2.21)\n",
      "Requirement already satisfied: h11<1,>=0.9.0 in d:\\anaconda\\lib\\site-packages (from wsproto>=0.14->trio-websocket~=0.9->selenium) (0.14.0)\n",
      "Current Path D:/Hoa_7.2\\cat\n",
      "total results: 100\n",
      "Found: [<selenium.webdriver.remote.webelement.WebElement (session=\"bed10c7e75fa27ab01b806aea4dfdec3\", element=\"f.A4BE6E5EEE2978422CCFAD5A43B3C307.d.C958F7684345DA10ABB5AC49529B27B6.e.12\")>, <selenium.webdriver.remote.webelement.WebElement (session=\"bed10c7e75fa27ab01b806aea4dfdec3\", element=\"f.A4BE6E5EEE2978422CCFAD5A43B3C307.d.C958F7684345DA10ABB5AC49529B27B6.e.14\")>, <selenium.webdriver.remote.webelement.WebElement (session=\"bed10c7e75fa27ab01b806aea4dfdec3\", element=\"f.A4BE6E5EEE2978422CCFAD5A43B3C307.d.C958F7684345DA10ABB5AC49529B27B6.e.16\")>, <selenium.webdriver.remote.webelement.WebElement (session=\"bed10c7e75fa27ab01b806aea4dfdec3\", element=\"f.A4BE6E5EEE2978422CCFAD5A43B3C307.d.C958F7684345DA10ABB5AC49529B27B6.e.18\")>, <selenium.webdriver.remote.webelement.WebElement (session=\"bed10c7e75fa27ab01b806aea4dfdec3\", element=\"f.A4BE6E5EEE2978422CCFAD5A43B3C307.d.C958F7684345DA10ABB5AC49529B27B6.e.20\")>, <selenium.webdriver.remote.webelement.WebElement (session=\"bed10c7e75fa27ab01b806aea4dfdec3\", element=\"f.A4BE6E5EEE2978422CCFAD5A43B3C307.d.C958F7684345DA10ABB5AC49529B27B6.e.22\")>, <selenium.webdriver.remote.webelement.WebElement (session=\"bed10c7e75fa27ab01b806aea4dfdec3\", element=\"f.A4BE6E5EEE2978422CCFAD5A43B3C307.d.C958F7684345DA10ABB5AC49529B27B6.e.24\")>, <selenium.webdriver.remote.webelement.WebElement (session=\"bed10c7e75fa27ab01b806aea4dfdec3\", element=\"f.A4BE6E5EEE2978422CCFAD5A43B3C307.d.C958F7684345DA10ABB5AC49529B27B6.e.26\")>, <selenium.webdriver.remote.webelement.WebElement (session=\"bed10c7e75fa27ab01b806aea4dfdec3\", element=\"f.A4BE6E5EEE2978422CCFAD5A43B3C307.d.C958F7684345DA10ABB5AC49529B27B6.e.30\")>, <selenium.webdriver.remote.webelement.WebElement (session=\"bed10c7e75fa27ab01b806aea4dfdec3\", element=\"f.A4BE6E5EEE2978422CCFAD5A43B3C307.d.C958F7684345DA10ABB5AC49529B27B6.e.31\")>, <selenium.webdriver.remote.webelement.WebElement (session=\"bed10c7e75fa27ab01b806aea4dfdec3\", element=\"f.A4BE6E5EEE2978422CCFAD5A43B3C307.d.C958F7684345DA10ABB5AC49529B27B6.e.32\")>, <selenium.webdriver.remote.webelement.WebElement (session=\"bed10c7e75fa27ab01b806aea4dfdec3\", element=\"f.A4BE6E5EEE2978422CCFAD5A43B3C307.d.C958F7684345DA10ABB5AC49529B27B6.e.42\")>, <selenium.webdriver.remote.webelement.WebElement (session=\"bed10c7e75fa27ab01b806aea4dfdec3\", element=\"f.A4BE6E5EEE2978422CCFAD5A43B3C307.d.C958F7684345DA10ABB5AC49529B27B6.e.43\")>, <selenium.webdriver.remote.webelement.WebElement (session=\"bed10c7e75fa27ab01b806aea4dfdec3\", element=\"f.A4BE6E5EEE2978422CCFAD5A43B3C307.d.C958F7684345DA10ABB5AC49529B27B6.e.44\")>, <selenium.webdriver.remote.webelement.WebElement (session=\"bed10c7e75fa27ab01b806aea4dfdec3\", element=\"f.A4BE6E5EEE2978422CCFAD5A43B3C307.d.C958F7684345DA10ABB5AC49529B27B6.e.45\")>, <selenium.webdriver.remote.webelement.WebElement (session=\"bed10c7e75fa27ab01b806aea4dfdec3\", element=\"f.A4BE6E5EEE2978422CCFAD5A43B3C307.d.C958F7684345DA10ABB5AC49529B27B6.e.46\")>, <selenium.webdriver.remote.webelement.WebElement (session=\"bed10c7e75fa27ab01b806aea4dfdec3\", element=\"f.A4BE6E5EEE2978422CCFAD5A43B3C307.d.C958F7684345DA10ABB5AC49529B27B6.e.47\")>, <selenium.webdriver.remote.webelement.WebElement (session=\"bed10c7e75fa27ab01b806aea4dfdec3\", element=\"f.A4BE6E5EEE2978422CCFAD5A43B3C307.d.C958F7684345DA10ABB5AC49529B27B6.e.48\")>, <selenium.webdriver.remote.webelement.WebElement (session=\"bed10c7e75fa27ab01b806aea4dfdec3\", element=\"f.A4BE6E5EEE2978422CCFAD5A43B3C307.d.C958F7684345DA10ABB5AC49529B27B6.e.49\")>, <selenium.webdriver.remote.webelement.WebElement (session=\"bed10c7e75fa27ab01b806aea4dfdec3\", element=\"f.A4BE6E5EEE2978422CCFAD5A43B3C307.d.C958F7684345DA10ABB5AC49529B27B6.e.50\")>, <selenium.webdriver.remote.webelement.WebElement (session=\"bed10c7e75fa27ab01b806aea4dfdec3\", element=\"f.A4BE6E5EEE2978422CCFAD5A43B3C307.d.C958F7684345DA10ABB5AC49529B27B6.e.51\")>, <selenium.webdriver.remote.webelement.WebElement (session=\"bed10c7e75fa27ab01b806aea4dfdec3\", element=\"f.A4BE6E5EEE2978422CCFAD5A43B3C307.d.C958F7684345DA10ABB5AC49529B27B6.e.53\")>, <selenium.webdriver.remote.webelement.WebElement (session=\"bed10c7e75fa27ab01b806aea4dfdec3\", element=\"f.A4BE6E5EEE2978422CCFAD5A43B3C307.d.C958F7684345DA10ABB5AC49529B27B6.e.55\")>, <selenium.webdriver.remote.webelement.WebElement (session=\"bed10c7e75fa27ab01b806aea4dfdec3\", element=\"f.A4BE6E5EEE2978422CCFAD5A43B3C307.d.C958F7684345DA10ABB5AC49529B27B6.e.57\")>, <selenium.webdriver.remote.webelement.WebElement (session=\"bed10c7e75fa27ab01b806aea4dfdec3\", element=\"f.A4BE6E5EEE2978422CCFAD5A43B3C307.d.C958F7684345DA10ABB5AC49529B27B6.e.59\")>, <selenium.webdriver.remote.webelement.WebElement (session=\"bed10c7e75fa27ab01b806aea4dfdec3\", element=\"f.A4BE6E5EEE2978422CCFAD5A43B3C307.d.C958F7684345DA10ABB5AC49529B27B6.e.61\")>, <selenium.webdriver.remote.webelement.WebElement (session=\"bed10c7e75fa27ab01b806aea4dfdec3\", element=\"f.A4BE6E5EEE2978422CCFAD5A43B3C307.d.C958F7684345DA10ABB5AC49529B27B6.e.63\")>, <selenium.webdriver.remote.webelement.WebElement (session=\"bed10c7e75fa27ab01b806aea4dfdec3\", element=\"f.A4BE6E5EEE2978422CCFAD5A43B3C307.d.C958F7684345DA10ABB5AC49529B27B6.e.65\")>, <selenium.webdriver.remote.webelement.WebElement (session=\"bed10c7e75fa27ab01b806aea4dfdec3\", element=\"f.A4BE6E5EEE2978422CCFAD5A43B3C307.d.C958F7684345DA10ABB5AC49529B27B6.e.67\")>, <selenium.webdriver.remote.webelement.WebElement (session=\"bed10c7e75fa27ab01b806aea4dfdec3\", element=\"f.A4BE6E5EEE2978422CCFAD5A43B3C307.d.C958F7684345DA10ABB5AC49529B27B6.e.69\")>, <selenium.webdriver.remote.webelement.WebElement (session=\"bed10c7e75fa27ab01b806aea4dfdec3\", element=\"f.A4BE6E5EEE2978422CCFAD5A43B3C307.d.C958F7684345DA10ABB5AC49529B27B6.e.71\")>, <selenium.webdriver.remote.webelement.WebElement (session=\"bed10c7e75fa27ab01b806aea4dfdec3\", element=\"f.A4BE6E5EEE2978422CCFAD5A43B3C307.d.C958F7684345DA10ABB5AC49529B27B6.e.73\")>, <selenium.webdriver.remote.webelement.WebElement (session=\"bed10c7e75fa27ab01b806aea4dfdec3\", element=\"f.A4BE6E5EEE2978422CCFAD5A43B3C307.d.C958F7684345DA10ABB5AC49529B27B6.e.75\")>, <selenium.webdriver.remote.webelement.WebElement (session=\"bed10c7e75fa27ab01b806aea4dfdec3\", element=\"f.A4BE6E5EEE2978422CCFAD5A43B3C307.d.C958F7684345DA10ABB5AC49529B27B6.e.77\")>, <selenium.webdriver.remote.webelement.WebElement (session=\"bed10c7e75fa27ab01b806aea4dfdec3\", element=\"f.A4BE6E5EEE2978422CCFAD5A43B3C307.d.C958F7684345DA10ABB5AC49529B27B6.e.79\")>, <selenium.webdriver.remote.webelement.WebElement (session=\"bed10c7e75fa27ab01b806aea4dfdec3\", element=\"f.A4BE6E5EEE2978422CCFAD5A43B3C307.d.C958F7684345DA10ABB5AC49529B27B6.e.81\")>, <selenium.webdriver.remote.webelement.WebElement (session=\"bed10c7e75fa27ab01b806aea4dfdec3\", element=\"f.A4BE6E5EEE2978422CCFAD5A43B3C307.d.C958F7684345DA10ABB5AC49529B27B6.e.83\")>, <selenium.webdriver.remote.webelement.WebElement (session=\"bed10c7e75fa27ab01b806aea4dfdec3\", element=\"f.A4BE6E5EEE2978422CCFAD5A43B3C307.d.C958F7684345DA10ABB5AC49529B27B6.e.85\")>, <selenium.webdriver.remote.webelement.WebElement (session=\"bed10c7e75fa27ab01b806aea4dfdec3\", element=\"f.A4BE6E5EEE2978422CCFAD5A43B3C307.d.C958F7684345DA10ABB5AC49529B27B6.e.87\")>, <selenium.webdriver.remote.webelement.WebElement (session=\"bed10c7e75fa27ab01b806aea4dfdec3\", element=\"f.A4BE6E5EEE2978422CCFAD5A43B3C307.d.C958F7684345DA10ABB5AC49529B27B6.e.89\")>, <selenium.webdriver.remote.webelement.WebElement (session=\"bed10c7e75fa27ab01b806aea4dfdec3\", element=\"f.A4BE6E5EEE2978422CCFAD5A43B3C307.d.C958F7684345DA10ABB5AC49529B27B6.e.91\")>, <selenium.webdriver.remote.webelement.WebElement (session=\"bed10c7e75fa27ab01b806aea4dfdec3\", element=\"f.A4BE6E5EEE2978422CCFAD5A43B3C307.d.C958F7684345DA10ABB5AC49529B27B6.e.93\")>, <selenium.webdriver.remote.webelement.WebElement (session=\"bed10c7e75fa27ab01b806aea4dfdec3\", element=\"f.A4BE6E5EEE2978422CCFAD5A43B3C307.d.C958F7684345DA10ABB5AC49529B27B6.e.95\")>, <selenium.webdriver.remote.webelement.WebElement (session=\"bed10c7e75fa27ab01b806aea4dfdec3\", element=\"f.A4BE6E5EEE2978422CCFAD5A43B3C307.d.C958F7684345DA10ABB5AC49529B27B6.e.97\")>, <selenium.webdriver.remote.webelement.WebElement (session=\"bed10c7e75fa27ab01b806aea4dfdec3\", element=\"f.A4BE6E5EEE2978422CCFAD5A43B3C307.d.C958F7684345DA10ABB5AC49529B27B6.e.39\")>, <selenium.webdriver.remote.webelement.WebElement (session=\"bed10c7e75fa27ab01b806aea4dfdec3\", element=\"f.A4BE6E5EEE2978422CCFAD5A43B3C307.d.C958F7684345DA10ABB5AC49529B27B6.e.40\")>, <selenium.webdriver.remote.webelement.WebElement (session=\"bed10c7e75fa27ab01b806aea4dfdec3\", element=\"f.A4BE6E5EEE2978422CCFAD5A43B3C307.d.C958F7684345DA10ABB5AC49529B27B6.e.41\")>, <selenium.webdriver.remote.webelement.WebElement (session=\"bed10c7e75fa27ab01b806aea4dfdec3\", element=\"f.A4BE6E5EEE2978422CCFAD5A43B3C307.d.C958F7684345DA10ABB5AC49529B27B6.e.102\")>, <selenium.webdriver.remote.webelement.WebElement (session=\"bed10c7e75fa27ab01b806aea4dfdec3\", element=\"f.A4BE6E5EEE2978422CCFAD5A43B3C307.d.C958F7684345DA10ABB5AC49529B27B6.e.104\")>, <selenium.webdriver.remote.webelement.WebElement (session=\"bed10c7e75fa27ab01b806aea4dfdec3\", element=\"f.A4BE6E5EEE2978422CCFAD5A43B3C307.d.C958F7684345DA10ABB5AC49529B27B6.e.106\")>, <selenium.webdriver.remote.webelement.WebElement (session=\"bed10c7e75fa27ab01b806aea4dfdec3\", element=\"f.A4BE6E5EEE2978422CCFAD5A43B3C307.d.C958F7684345DA10ABB5AC49529B27B6.e.108\")>, <selenium.webdriver.remote.webelement.WebElement (session=\"bed10c7e75fa27ab01b806aea4dfdec3\", element=\"f.A4BE6E5EEE2978422CCFAD5A43B3C307.d.C958F7684345DA10ABB5AC49529B27B6.e.110\")>, <selenium.webdriver.remote.webelement.WebElement (session=\"bed10c7e75fa27ab01b806aea4dfdec3\", element=\"f.A4BE6E5EEE2978422CCFAD5A43B3C307.d.C958F7684345DA10ABB5AC49529B27B6.e.112\")>, <selenium.webdriver.remote.webelement.WebElement (session=\"bed10c7e75fa27ab01b806aea4dfdec3\", element=\"f.A4BE6E5EEE2978422CCFAD5A43B3C307.d.C958F7684345DA10ABB5AC49529B27B6.e.114\")>, <selenium.webdriver.remote.webelement.WebElement (session=\"bed10c7e75fa27ab01b806aea4dfdec3\", element=\"f.A4BE6E5EEE2978422CCFAD5A43B3C307.d.C958F7684345DA10ABB5AC49529B27B6.e.116\")>, <selenium.webdriver.remote.webelement.WebElement (session=\"bed10c7e75fa27ab01b806aea4dfdec3\", element=\"f.A4BE6E5EEE2978422CCFAD5A43B3C307.d.C958F7684345DA10ABB5AC49529B27B6.e.118\")>, <selenium.webdriver.remote.webelement.WebElement (session=\"bed10c7e75fa27ab01b806aea4dfdec3\", element=\"f.A4BE6E5EEE2978422CCFAD5A43B3C307.d.C958F7684345DA10ABB5AC49529B27B6.e.120\")>, <selenium.webdriver.remote.webelement.WebElement (session=\"bed10c7e75fa27ab01b806aea4dfdec3\", element=\"f.A4BE6E5EEE2978422CCFAD5A43B3C307.d.C958F7684345DA10ABB5AC49529B27B6.e.122\")>, <selenium.webdriver.remote.webelement.WebElement (session=\"bed10c7e75fa27ab01b806aea4dfdec3\", element=\"f.A4BE6E5EEE2978422CCFAD5A43B3C307.d.C958F7684345DA10ABB5AC49529B27B6.e.124\")>, <selenium.webdriver.remote.webelement.WebElement (session=\"bed10c7e75fa27ab01b806aea4dfdec3\", element=\"f.A4BE6E5EEE2978422CCFAD5A43B3C307.d.C958F7684345DA10ABB5AC49529B27B6.e.126\")>, <selenium.webdriver.remote.webelement.WebElement (session=\"bed10c7e75fa27ab01b806aea4dfdec3\", element=\"f.A4BE6E5EEE2978422CCFAD5A43B3C307.d.C958F7684345DA10ABB5AC49529B27B6.e.128\")>, <selenium.webdriver.remote.webelement.WebElement (session=\"bed10c7e75fa27ab01b806aea4dfdec3\", element=\"f.A4BE6E5EEE2978422CCFAD5A43B3C307.d.C958F7684345DA10ABB5AC49529B27B6.e.130\")>, <selenium.webdriver.remote.webelement.WebElement (session=\"bed10c7e75fa27ab01b806aea4dfdec3\", element=\"f.A4BE6E5EEE2978422CCFAD5A43B3C307.d.C958F7684345DA10ABB5AC49529B27B6.e.132\")>, <selenium.webdriver.remote.webelement.WebElement (session=\"bed10c7e75fa27ab01b806aea4dfdec3\", element=\"f.A4BE6E5EEE2978422CCFAD5A43B3C307.d.C958F7684345DA10ABB5AC49529B27B6.e.134\")>, <selenium.webdriver.remote.webelement.WebElement (session=\"bed10c7e75fa27ab01b806aea4dfdec3\", element=\"f.A4BE6E5EEE2978422CCFAD5A43B3C307.d.C958F7684345DA10ABB5AC49529B27B6.e.136\")>, <selenium.webdriver.remote.webelement.WebElement (session=\"bed10c7e75fa27ab01b806aea4dfdec3\", element=\"f.A4BE6E5EEE2978422CCFAD5A43B3C307.d.C958F7684345DA10ABB5AC49529B27B6.e.138\")>, <selenium.webdriver.remote.webelement.WebElement (session=\"bed10c7e75fa27ab01b806aea4dfdec3\", element=\"f.A4BE6E5EEE2978422CCFAD5A43B3C307.d.C958F7684345DA10ABB5AC49529B27B6.e.140\")>, <selenium.webdriver.remote.webelement.WebElement (session=\"bed10c7e75fa27ab01b806aea4dfdec3\", element=\"f.A4BE6E5EEE2978422CCFAD5A43B3C307.d.C958F7684345DA10ABB5AC49529B27B6.e.142\")>, <selenium.webdriver.remote.webelement.WebElement (session=\"bed10c7e75fa27ab01b806aea4dfdec3\", element=\"f.A4BE6E5EEE2978422CCFAD5A43B3C307.d.C958F7684345DA10ABB5AC49529B27B6.e.144\")>, <selenium.webdriver.remote.webelement.WebElement (session=\"bed10c7e75fa27ab01b806aea4dfdec3\", element=\"f.A4BE6E5EEE2978422CCFAD5A43B3C307.d.C958F7684345DA10ABB5AC49529B27B6.e.146\")>, <selenium.webdriver.remote.webelement.WebElement (session=\"bed10c7e75fa27ab01b806aea4dfdec3\", element=\"f.A4BE6E5EEE2978422CCFAD5A43B3C307.d.C958F7684345DA10ABB5AC49529B27B6.e.148\")>, <selenium.webdriver.remote.webelement.WebElement (session=\"bed10c7e75fa27ab01b806aea4dfdec3\", element=\"f.A4BE6E5EEE2978422CCFAD5A43B3C307.d.C958F7684345DA10ABB5AC49529B27B6.e.150\")>, <selenium.webdriver.remote.webelement.WebElement (session=\"bed10c7e75fa27ab01b806aea4dfdec3\", element=\"f.A4BE6E5EEE2978422CCFAD5A43B3C307.d.C958F7684345DA10ABB5AC49529B27B6.e.152\")>, <selenium.webdriver.remote.webelement.WebElement (session=\"bed10c7e75fa27ab01b806aea4dfdec3\", element=\"f.A4BE6E5EEE2978422CCFAD5A43B3C307.d.C958F7684345DA10ABB5AC49529B27B6.e.154\")>, <selenium.webdriver.remote.webelement.WebElement (session=\"bed10c7e75fa27ab01b806aea4dfdec3\", element=\"f.A4BE6E5EEE2978422CCFAD5A43B3C307.d.C958F7684345DA10ABB5AC49529B27B6.e.156\")>, <selenium.webdriver.remote.webelement.WebElement (session=\"bed10c7e75fa27ab01b806aea4dfdec3\", element=\"f.A4BE6E5EEE2978422CCFAD5A43B3C307.d.C958F7684345DA10ABB5AC49529B27B6.e.158\")>, <selenium.webdriver.remote.webelement.WebElement (session=\"bed10c7e75fa27ab01b806aea4dfdec3\", element=\"f.A4BE6E5EEE2978422CCFAD5A43B3C307.d.C958F7684345DA10ABB5AC49529B27B6.e.160\")>, <selenium.webdriver.remote.webelement.WebElement (session=\"bed10c7e75fa27ab01b806aea4dfdec3\", element=\"f.A4BE6E5EEE2978422CCFAD5A43B3C307.d.C958F7684345DA10ABB5AC49529B27B6.e.162\")>, <selenium.webdriver.remote.webelement.WebElement (session=\"bed10c7e75fa27ab01b806aea4dfdec3\", element=\"f.A4BE6E5EEE2978422CCFAD5A43B3C307.d.C958F7684345DA10ABB5AC49529B27B6.e.164\")>, <selenium.webdriver.remote.webelement.WebElement (session=\"bed10c7e75fa27ab01b806aea4dfdec3\", element=\"f.A4BE6E5EEE2978422CCFAD5A43B3C307.d.C958F7684345DA10ABB5AC49529B27B6.e.166\")>, <selenium.webdriver.remote.webelement.WebElement (session=\"bed10c7e75fa27ab01b806aea4dfdec3\", element=\"f.A4BE6E5EEE2978422CCFAD5A43B3C307.d.C958F7684345DA10ABB5AC49529B27B6.e.168\")>, <selenium.webdriver.remote.webelement.WebElement (session=\"bed10c7e75fa27ab01b806aea4dfdec3\", element=\"f.A4BE6E5EEE2978422CCFAD5A43B3C307.d.C958F7684345DA10ABB5AC49529B27B6.e.170\")>, <selenium.webdriver.remote.webelement.WebElement (session=\"bed10c7e75fa27ab01b806aea4dfdec3\", element=\"f.A4BE6E5EEE2978422CCFAD5A43B3C307.d.C958F7684345DA10ABB5AC49529B27B6.e.172\")>, <selenium.webdriver.remote.webelement.WebElement (session=\"bed10c7e75fa27ab01b806aea4dfdec3\", element=\"f.A4BE6E5EEE2978422CCFAD5A43B3C307.d.C958F7684345DA10ABB5AC49529B27B6.e.174\")>, <selenium.webdriver.remote.webelement.WebElement (session=\"bed10c7e75fa27ab01b806aea4dfdec3\", element=\"f.A4BE6E5EEE2978422CCFAD5A43B3C307.d.C958F7684345DA10ABB5AC49529B27B6.e.176\")>, <selenium.webdriver.remote.webelement.WebElement (session=\"bed10c7e75fa27ab01b806aea4dfdec3\", element=\"f.A4BE6E5EEE2978422CCFAD5A43B3C307.d.C958F7684345DA10ABB5AC49529B27B6.e.178\")>, <selenium.webdriver.remote.webelement.WebElement (session=\"bed10c7e75fa27ab01b806aea4dfdec3\", element=\"f.A4BE6E5EEE2978422CCFAD5A43B3C307.d.C958F7684345DA10ABB5AC49529B27B6.e.180\")>, <selenium.webdriver.remote.webelement.WebElement (session=\"bed10c7e75fa27ab01b806aea4dfdec3\", element=\"f.A4BE6E5EEE2978422CCFAD5A43B3C307.d.C958F7684345DA10ABB5AC49529B27B6.e.182\")>, <selenium.webdriver.remote.webelement.WebElement (session=\"bed10c7e75fa27ab01b806aea4dfdec3\", element=\"f.A4BE6E5EEE2978422CCFAD5A43B3C307.d.C958F7684345DA10ABB5AC49529B27B6.e.184\")>, <selenium.webdriver.remote.webelement.WebElement (session=\"bed10c7e75fa27ab01b806aea4dfdec3\", element=\"f.A4BE6E5EEE2978422CCFAD5A43B3C307.d.C958F7684345DA10ABB5AC49529B27B6.e.186\")>, <selenium.webdriver.remote.webelement.WebElement (session=\"bed10c7e75fa27ab01b806aea4dfdec3\", element=\"f.A4BE6E5EEE2978422CCFAD5A43B3C307.d.C958F7684345DA10ABB5AC49529B27B6.e.188\")>, <selenium.webdriver.remote.webelement.WebElement (session=\"bed10c7e75fa27ab01b806aea4dfdec3\", element=\"f.A4BE6E5EEE2978422CCFAD5A43B3C307.d.C958F7684345DA10ABB5AC49529B27B6.e.190\")>, <selenium.webdriver.remote.webelement.WebElement (session=\"bed10c7e75fa27ab01b806aea4dfdec3\", element=\"f.A4BE6E5EEE2978422CCFAD5A43B3C307.d.C958F7684345DA10ABB5AC49529B27B6.e.192\")>, <selenium.webdriver.remote.webelement.WebElement (session=\"bed10c7e75fa27ab01b806aea4dfdec3\", element=\"f.A4BE6E5EEE2978422CCFAD5A43B3C307.d.C958F7684345DA10ABB5AC49529B27B6.e.194\")>, <selenium.webdriver.remote.webelement.WebElement (session=\"bed10c7e75fa27ab01b806aea4dfdec3\", element=\"f.A4BE6E5EEE2978422CCFAD5A43B3C307.d.C958F7684345DA10ABB5AC49529B27B6.e.196\")>, <selenium.webdriver.remote.webelement.WebElement (session=\"bed10c7e75fa27ab01b806aea4dfdec3\", element=\"f.A4BE6E5EEE2978422CCFAD5A43B3C307.d.C958F7684345DA10ABB5AC49529B27B6.e.198\")>, <selenium.webdriver.remote.webelement.WebElement (session=\"bed10c7e75fa27ab01b806aea4dfdec3\", element=\"f.A4BE6E5EEE2978422CCFAD5A43B3C307.d.C958F7684345DA10ABB5AC49529B27B6.e.200\")>, <selenium.webdriver.remote.webelement.WebElement (session=\"bed10c7e75fa27ab01b806aea4dfdec3\", element=\"f.A4BE6E5EEE2978422CCFAD5A43B3C307.d.C958F7684345DA10ABB5AC49529B27B6.e.202\")>, <selenium.webdriver.remote.webelement.WebElement (session=\"bed10c7e75fa27ab01b806aea4dfdec3\", element=\"f.A4BE6E5EEE2978422CCFAD5A43B3C307.d.C958F7684345DA10ABB5AC49529B27B6.e.204\")>, <selenium.webdriver.remote.webelement.WebElement (session=\"bed10c7e75fa27ab01b806aea4dfdec3\", element=\"f.A4BE6E5EEE2978422CCFAD5A43B3C307.d.C958F7684345DA10ABB5AC49529B27B6.e.206\")>] search results. Extracting links from0:[<selenium.webdriver.remote.webelement.WebElement (session=\"bed10c7e75fa27ab01b806aea4dfdec3\", element=\"f.A4BE6E5EEE2978422CCFAD5A43B3C307.d.C958F7684345DA10ABB5AC49529B27B6.e.12\")>, <selenium.webdriver.remote.webelement.WebElement (session=\"bed10c7e75fa27ab01b806aea4dfdec3\", element=\"f.A4BE6E5EEE2978422CCFAD5A43B3C307.d.C958F7684345DA10ABB5AC49529B27B6.e.14\")>, <selenium.webdriver.remote.webelement.WebElement (session=\"bed10c7e75fa27ab01b806aea4dfdec3\", element=\"f.A4BE6E5EEE2978422CCFAD5A43B3C307.d.C958F7684345DA10ABB5AC49529B27B6.e.16\")>, <selenium.webdriver.remote.webelement.WebElement (session=\"bed10c7e75fa27ab01b806aea4dfdec3\", element=\"f.A4BE6E5EEE2978422CCFAD5A43B3C307.d.C958F7684345DA10ABB5AC49529B27B6.e.18\")>, <selenium.webdriver.remote.webelement.WebElement (session=\"bed10c7e75fa27ab01b806aea4dfdec3\", element=\"f.A4BE6E5EEE2978422CCFAD5A43B3C307.d.C958F7684345DA10ABB5AC49529B27B6.e.20\")>, <selenium.webdriver.remote.webelement.WebElement (session=\"bed10c7e75fa27ab01b806aea4dfdec3\", element=\"f.A4BE6E5EEE2978422CCFAD5A43B3C307.d.C958F7684345DA10ABB5AC49529B27B6.e.22\")>, <selenium.webdriver.remote.webelement.WebElement (session=\"bed10c7e75fa27ab01b806aea4dfdec3\", element=\"f.A4BE6E5EEE2978422CCFAD5A43B3C307.d.C958F7684345DA10ABB5AC49529B27B6.e.24\")>, <selenium.webdriver.remote.webelement.WebElement (session=\"bed10c7e75fa27ab01b806aea4dfdec3\", element=\"f.A4BE6E5EEE2978422CCFAD5A43B3C307.d.C958F7684345DA10ABB5AC49529B27B6.e.26\")>, <selenium.webdriver.remote.webelement.WebElement (session=\"bed10c7e75fa27ab01b806aea4dfdec3\", element=\"f.A4BE6E5EEE2978422CCFAD5A43B3C307.d.C958F7684345DA10ABB5AC49529B27B6.e.30\")>, <selenium.webdriver.remote.webelement.WebElement (session=\"bed10c7e75fa27ab01b806aea4dfdec3\", element=\"f.A4BE6E5EEE2978422CCFAD5A43B3C307.d.C958F7684345DA10ABB5AC49529B27B6.e.31\")>, <selenium.webdriver.remote.webelement.WebElement (session=\"bed10c7e75fa27ab01b806aea4dfdec3\", element=\"f.A4BE6E5EEE2978422CCFAD5A43B3C307.d.C958F7684345DA10ABB5AC49529B27B6.e.32\")>, <selenium.webdriver.remote.webelement.WebElement (session=\"bed10c7e75fa27ab01b806aea4dfdec3\", element=\"f.A4BE6E5EEE2978422CCFAD5A43B3C307.d.C958F7684345DA10ABB5AC49529B27B6.e.42\")>, <selenium.webdriver.remote.webelement.WebElement (session=\"bed10c7e75fa27ab01b806aea4dfdec3\", element=\"f.A4BE6E5EEE2978422CCFAD5A43B3C307.d.C958F7684345DA10ABB5AC49529B27B6.e.43\")>, <selenium.webdriver.remote.webelement.WebElement (session=\"bed10c7e75fa27ab01b806aea4dfdec3\", element=\"f.A4BE6E5EEE2978422CCFAD5A43B3C307.d.C958F7684345DA10ABB5AC49529B27B6.e.44\")>, <selenium.webdriver.remote.webelement.WebElement (session=\"bed10c7e75fa27ab01b806aea4dfdec3\", element=\"f.A4BE6E5EEE2978422CCFAD5A43B3C307.d.C958F7684345DA10ABB5AC49529B27B6.e.45\")>, <selenium.webdriver.remote.webelement.WebElement (session=\"bed10c7e75fa27ab01b806aea4dfdec3\", element=\"f.A4BE6E5EEE2978422CCFAD5A43B3C307.d.C958F7684345DA10ABB5AC49529B27B6.e.46\")>, <selenium.webdriver.remote.webelement.WebElement (session=\"bed10c7e75fa27ab01b806aea4dfdec3\", element=\"f.A4BE6E5EEE2978422CCFAD5A43B3C307.d.C958F7684345DA10ABB5AC49529B27B6.e.47\")>, <selenium.webdriver.remote.webelement.WebElement (session=\"bed10c7e75fa27ab01b806aea4dfdec3\", element=\"f.A4BE6E5EEE2978422CCFAD5A43B3C307.d.C958F7684345DA10ABB5AC49529B27B6.e.48\")>, <selenium.webdriver.remote.webelement.WebElement (session=\"bed10c7e75fa27ab01b806aea4dfdec3\", element=\"f.A4BE6E5EEE2978422CCFAD5A43B3C307.d.C958F7684345DA10ABB5AC49529B27B6.e.49\")>, <selenium.webdriver.remote.webelement.WebElement (session=\"bed10c7e75fa27ab01b806aea4dfdec3\", element=\"f.A4BE6E5EEE2978422CCFAD5A43B3C307.d.C958F7684345DA10ABB5AC49529B27B6.e.50\")>, <selenium.webdriver.remote.webelement.WebElement (session=\"bed10c7e75fa27ab01b806aea4dfdec3\", element=\"f.A4BE6E5EEE2978422CCFAD5A43B3C307.d.C958F7684345DA10ABB5AC49529B27B6.e.51\")>, <selenium.webdriver.remote.webelement.WebElement (session=\"bed10c7e75fa27ab01b806aea4dfdec3\", element=\"f.A4BE6E5EEE2978422CCFAD5A43B3C307.d.C958F7684345DA10ABB5AC49529B27B6.e.53\")>, <selenium.webdriver.remote.webelement.WebElement (session=\"bed10c7e75fa27ab01b806aea4dfdec3\", element=\"f.A4BE6E5EEE2978422CCFAD5A43B3C307.d.C958F7684345DA10ABB5AC49529B27B6.e.55\")>, <selenium.webdriver.remote.webelement.WebElement (session=\"bed10c7e75fa27ab01b806aea4dfdec3\", element=\"f.A4BE6E5EEE2978422CCFAD5A43B3C307.d.C958F7684345DA10ABB5AC49529B27B6.e.57\")>, <selenium.webdriver.remote.webelement.WebElement (session=\"bed10c7e75fa27ab01b806aea4dfdec3\", element=\"f.A4BE6E5EEE2978422CCFAD5A43B3C307.d.C958F7684345DA10ABB5AC49529B27B6.e.59\")>, <selenium.webdriver.remote.webelement.WebElement (session=\"bed10c7e75fa27ab01b806aea4dfdec3\", element=\"f.A4BE6E5EEE2978422CCFAD5A43B3C307.d.C958F7684345DA10ABB5AC49529B27B6.e.61\")>, <selenium.webdriver.remote.webelement.WebElement (session=\"bed10c7e75fa27ab01b806aea4dfdec3\", element=\"f.A4BE6E5EEE2978422CCFAD5A43B3C307.d.C958F7684345DA10ABB5AC49529B27B6.e.63\")>, <selenium.webdriver.remote.webelement.WebElement (session=\"bed10c7e75fa27ab01b806aea4dfdec3\", element=\"f.A4BE6E5EEE2978422CCFAD5A43B3C307.d.C958F7684345DA10ABB5AC49529B27B6.e.65\")>, <selenium.webdriver.remote.webelement.WebElement (session=\"bed10c7e75fa27ab01b806aea4dfdec3\", element=\"f.A4BE6E5EEE2978422CCFAD5A43B3C307.d.C958F7684345DA10ABB5AC49529B27B6.e.67\")>, <selenium.webdriver.remote.webelement.WebElement (session=\"bed10c7e75fa27ab01b806aea4dfdec3\", element=\"f.A4BE6E5EEE2978422CCFAD5A43B3C307.d.C958F7684345DA10ABB5AC49529B27B6.e.69\")>, <selenium.webdriver.remote.webelement.WebElement (session=\"bed10c7e75fa27ab01b806aea4dfdec3\", element=\"f.A4BE6E5EEE2978422CCFAD5A43B3C307.d.C958F7684345DA10ABB5AC49529B27B6.e.71\")>, <selenium.webdriver.remote.webelement.WebElement (session=\"bed10c7e75fa27ab01b806aea4dfdec3\", element=\"f.A4BE6E5EEE2978422CCFAD5A43B3C307.d.C958F7684345DA10ABB5AC49529B27B6.e.73\")>, <selenium.webdriver.remote.webelement.WebElement (session=\"bed10c7e75fa27ab01b806aea4dfdec3\", element=\"f.A4BE6E5EEE2978422CCFAD5A43B3C307.d.C958F7684345DA10ABB5AC49529B27B6.e.75\")>, <selenium.webdriver.remote.webelement.WebElement (session=\"bed10c7e75fa27ab01b806aea4dfdec3\", element=\"f.A4BE6E5EEE2978422CCFAD5A43B3C307.d.C958F7684345DA10ABB5AC49529B27B6.e.77\")>, <selenium.webdriver.remote.webelement.WebElement (session=\"bed10c7e75fa27ab01b806aea4dfdec3\", element=\"f.A4BE6E5EEE2978422CCFAD5A43B3C307.d.C958F7684345DA10ABB5AC49529B27B6.e.79\")>, <selenium.webdriver.remote.webelement.WebElement (session=\"bed10c7e75fa27ab01b806aea4dfdec3\", element=\"f.A4BE6E5EEE2978422CCFAD5A43B3C307.d.C958F7684345DA10ABB5AC49529B27B6.e.81\")>, <selenium.webdriver.remote.webelement.WebElement (session=\"bed10c7e75fa27ab01b806aea4dfdec3\", element=\"f.A4BE6E5EEE2978422CCFAD5A43B3C307.d.C958F7684345DA10ABB5AC49529B27B6.e.83\")>, <selenium.webdriver.remote.webelement.WebElement (session=\"bed10c7e75fa27ab01b806aea4dfdec3\", element=\"f.A4BE6E5EEE2978422CCFAD5A43B3C307.d.C958F7684345DA10ABB5AC49529B27B6.e.85\")>, <selenium.webdriver.remote.webelement.WebElement (session=\"bed10c7e75fa27ab01b806aea4dfdec3\", element=\"f.A4BE6E5EEE2978422CCFAD5A43B3C307.d.C958F7684345DA10ABB5AC49529B27B6.e.87\")>, <selenium.webdriver.remote.webelement.WebElement (session=\"bed10c7e75fa27ab01b806aea4dfdec3\", element=\"f.A4BE6E5EEE2978422CCFAD5A43B3C307.d.C958F7684345DA10ABB5AC49529B27B6.e.89\")>, <selenium.webdriver.remote.webelement.WebElement (session=\"bed10c7e75fa27ab01b806aea4dfdec3\", element=\"f.A4BE6E5EEE2978422CCFAD5A43B3C307.d.C958F7684345DA10ABB5AC49529B27B6.e.91\")>, <selenium.webdriver.remote.webelement.WebElement (session=\"bed10c7e75fa27ab01b806aea4dfdec3\", element=\"f.A4BE6E5EEE2978422CCFAD5A43B3C307.d.C958F7684345DA10ABB5AC49529B27B6.e.93\")>, <selenium.webdriver.remote.webelement.WebElement (session=\"bed10c7e75fa27ab01b806aea4dfdec3\", element=\"f.A4BE6E5EEE2978422CCFAD5A43B3C307.d.C958F7684345DA10ABB5AC49529B27B6.e.95\")>, <selenium.webdriver.remote.webelement.WebElement (session=\"bed10c7e75fa27ab01b806aea4dfdec3\", element=\"f.A4BE6E5EEE2978422CCFAD5A43B3C307.d.C958F7684345DA10ABB5AC49529B27B6.e.97\")>, <selenium.webdriver.remote.webelement.WebElement (session=\"bed10c7e75fa27ab01b806aea4dfdec3\", element=\"f.A4BE6E5EEE2978422CCFAD5A43B3C307.d.C958F7684345DA10ABB5AC49529B27B6.e.39\")>, <selenium.webdriver.remote.webelement.WebElement (session=\"bed10c7e75fa27ab01b806aea4dfdec3\", element=\"f.A4BE6E5EEE2978422CCFAD5A43B3C307.d.C958F7684345DA10ABB5AC49529B27B6.e.40\")>, <selenium.webdriver.remote.webelement.WebElement (session=\"bed10c7e75fa27ab01b806aea4dfdec3\", element=\"f.A4BE6E5EEE2978422CCFAD5A43B3C307.d.C958F7684345DA10ABB5AC49529B27B6.e.41\")>, <selenium.webdriver.remote.webelement.WebElement (session=\"bed10c7e75fa27ab01b806aea4dfdec3\", element=\"f.A4BE6E5EEE2978422CCFAD5A43B3C307.d.C958F7684345DA10ABB5AC49529B27B6.e.102\")>, <selenium.webdriver.remote.webelement.WebElement (session=\"bed10c7e75fa27ab01b806aea4dfdec3\", element=\"f.A4BE6E5EEE2978422CCFAD5A43B3C307.d.C958F7684345DA10ABB5AC49529B27B6.e.104\")>, <selenium.webdriver.remote.webelement.WebElement (session=\"bed10c7e75fa27ab01b806aea4dfdec3\", element=\"f.A4BE6E5EEE2978422CCFAD5A43B3C307.d.C958F7684345DA10ABB5AC49529B27B6.e.106\")>, <selenium.webdriver.remote.webelement.WebElement (session=\"bed10c7e75fa27ab01b806aea4dfdec3\", element=\"f.A4BE6E5EEE2978422CCFAD5A43B3C307.d.C958F7684345DA10ABB5AC49529B27B6.e.108\")>, <selenium.webdriver.remote.webelement.WebElement (session=\"bed10c7e75fa27ab01b806aea4dfdec3\", element=\"f.A4BE6E5EEE2978422CCFAD5A43B3C307.d.C958F7684345DA10ABB5AC49529B27B6.e.110\")>, <selenium.webdriver.remote.webelement.WebElement (session=\"bed10c7e75fa27ab01b806aea4dfdec3\", element=\"f.A4BE6E5EEE2978422CCFAD5A43B3C307.d.C958F7684345DA10ABB5AC49529B27B6.e.112\")>, <selenium.webdriver.remote.webelement.WebElement (session=\"bed10c7e75fa27ab01b806aea4dfdec3\", element=\"f.A4BE6E5EEE2978422CCFAD5A43B3C307.d.C958F7684345DA10ABB5AC49529B27B6.e.114\")>, <selenium.webdriver.remote.webelement.WebElement (session=\"bed10c7e75fa27ab01b806aea4dfdec3\", element=\"f.A4BE6E5EEE2978422CCFAD5A43B3C307.d.C958F7684345DA10ABB5AC49529B27B6.e.116\")>, <selenium.webdriver.remote.webelement.WebElement (session=\"bed10c7e75fa27ab01b806aea4dfdec3\", element=\"f.A4BE6E5EEE2978422CCFAD5A43B3C307.d.C958F7684345DA10ABB5AC49529B27B6.e.118\")>, <selenium.webdriver.remote.webelement.WebElement (session=\"bed10c7e75fa27ab01b806aea4dfdec3\", element=\"f.A4BE6E5EEE2978422CCFAD5A43B3C307.d.C958F7684345DA10ABB5AC49529B27B6.e.120\")>, <selenium.webdriver.remote.webelement.WebElement (session=\"bed10c7e75fa27ab01b806aea4dfdec3\", element=\"f.A4BE6E5EEE2978422CCFAD5A43B3C307.d.C958F7684345DA10ABB5AC49529B27B6.e.122\")>, <selenium.webdriver.remote.webelement.WebElement (session=\"bed10c7e75fa27ab01b806aea4dfdec3\", element=\"f.A4BE6E5EEE2978422CCFAD5A43B3C307.d.C958F7684345DA10ABB5AC49529B27B6.e.124\")>, <selenium.webdriver.remote.webelement.WebElement (session=\"bed10c7e75fa27ab01b806aea4dfdec3\", element=\"f.A4BE6E5EEE2978422CCFAD5A43B3C307.d.C958F7684345DA10ABB5AC49529B27B6.e.126\")>, <selenium.webdriver.remote.webelement.WebElement (session=\"bed10c7e75fa27ab01b806aea4dfdec3\", element=\"f.A4BE6E5EEE2978422CCFAD5A43B3C307.d.C958F7684345DA10ABB5AC49529B27B6.e.128\")>, <selenium.webdriver.remote.webelement.WebElement (session=\"bed10c7e75fa27ab01b806aea4dfdec3\", element=\"f.A4BE6E5EEE2978422CCFAD5A43B3C307.d.C958F7684345DA10ABB5AC49529B27B6.e.130\")>, <selenium.webdriver.remote.webelement.WebElement (session=\"bed10c7e75fa27ab01b806aea4dfdec3\", element=\"f.A4BE6E5EEE2978422CCFAD5A43B3C307.d.C958F7684345DA10ABB5AC49529B27B6.e.132\")>, <selenium.webdriver.remote.webelement.WebElement (session=\"bed10c7e75fa27ab01b806aea4dfdec3\", element=\"f.A4BE6E5EEE2978422CCFAD5A43B3C307.d.C958F7684345DA10ABB5AC49529B27B6.e.134\")>, <selenium.webdriver.remote.webelement.WebElement (session=\"bed10c7e75fa27ab01b806aea4dfdec3\", element=\"f.A4BE6E5EEE2978422CCFAD5A43B3C307.d.C958F7684345DA10ABB5AC49529B27B6.e.136\")>, <selenium.webdriver.remote.webelement.WebElement (session=\"bed10c7e75fa27ab01b806aea4dfdec3\", element=\"f.A4BE6E5EEE2978422CCFAD5A43B3C307.d.C958F7684345DA10ABB5AC49529B27B6.e.138\")>, <selenium.webdriver.remote.webelement.WebElement (session=\"bed10c7e75fa27ab01b806aea4dfdec3\", element=\"f.A4BE6E5EEE2978422CCFAD5A43B3C307.d.C958F7684345DA10ABB5AC49529B27B6.e.140\")>, <selenium.webdriver.remote.webelement.WebElement (session=\"bed10c7e75fa27ab01b806aea4dfdec3\", element=\"f.A4BE6E5EEE2978422CCFAD5A43B3C307.d.C958F7684345DA10ABB5AC49529B27B6.e.142\")>, <selenium.webdriver.remote.webelement.WebElement (session=\"bed10c7e75fa27ab01b806aea4dfdec3\", element=\"f.A4BE6E5EEE2978422CCFAD5A43B3C307.d.C958F7684345DA10ABB5AC49529B27B6.e.144\")>, <selenium.webdriver.remote.webelement.WebElement (session=\"bed10c7e75fa27ab01b806aea4dfdec3\", element=\"f.A4BE6E5EEE2978422CCFAD5A43B3C307.d.C958F7684345DA10ABB5AC49529B27B6.e.146\")>, <selenium.webdriver.remote.webelement.WebElement (session=\"bed10c7e75fa27ab01b806aea4dfdec3\", element=\"f.A4BE6E5EEE2978422CCFAD5A43B3C307.d.C958F7684345DA10ABB5AC49529B27B6.e.148\")>, <selenium.webdriver.remote.webelement.WebElement (session=\"bed10c7e75fa27ab01b806aea4dfdec3\", element=\"f.A4BE6E5EEE2978422CCFAD5A43B3C307.d.C958F7684345DA10ABB5AC49529B27B6.e.150\")>, <selenium.webdriver.remote.webelement.WebElement (session=\"bed10c7e75fa27ab01b806aea4dfdec3\", element=\"f.A4BE6E5EEE2978422CCFAD5A43B3C307.d.C958F7684345DA10ABB5AC49529B27B6.e.152\")>, <selenium.webdriver.remote.webelement.WebElement (session=\"bed10c7e75fa27ab01b806aea4dfdec3\", element=\"f.A4BE6E5EEE2978422CCFAD5A43B3C307.d.C958F7684345DA10ABB5AC49529B27B6.e.154\")>, <selenium.webdriver.remote.webelement.WebElement (session=\"bed10c7e75fa27ab01b806aea4dfdec3\", element=\"f.A4BE6E5EEE2978422CCFAD5A43B3C307.d.C958F7684345DA10ABB5AC49529B27B6.e.156\")>, <selenium.webdriver.remote.webelement.WebElement (session=\"bed10c7e75fa27ab01b806aea4dfdec3\", element=\"f.A4BE6E5EEE2978422CCFAD5A43B3C307.d.C958F7684345DA10ABB5AC49529B27B6.e.158\")>, <selenium.webdriver.remote.webelement.WebElement (session=\"bed10c7e75fa27ab01b806aea4dfdec3\", element=\"f.A4BE6E5EEE2978422CCFAD5A43B3C307.d.C958F7684345DA10ABB5AC49529B27B6.e.160\")>, <selenium.webdriver.remote.webelement.WebElement (session=\"bed10c7e75fa27ab01b806aea4dfdec3\", element=\"f.A4BE6E5EEE2978422CCFAD5A43B3C307.d.C958F7684345DA10ABB5AC49529B27B6.e.162\")>, <selenium.webdriver.remote.webelement.WebElement (session=\"bed10c7e75fa27ab01b806aea4dfdec3\", element=\"f.A4BE6E5EEE2978422CCFAD5A43B3C307.d.C958F7684345DA10ABB5AC49529B27B6.e.164\")>, <selenium.webdriver.remote.webelement.WebElement (session=\"bed10c7e75fa27ab01b806aea4dfdec3\", element=\"f.A4BE6E5EEE2978422CCFAD5A43B3C307.d.C958F7684345DA10ABB5AC49529B27B6.e.166\")>, <selenium.webdriver.remote.webelement.WebElement (session=\"bed10c7e75fa27ab01b806aea4dfdec3\", element=\"f.A4BE6E5EEE2978422CCFAD5A43B3C307.d.C958F7684345DA10ABB5AC49529B27B6.e.168\")>, <selenium.webdriver.remote.webelement.WebElement (session=\"bed10c7e75fa27ab01b806aea4dfdec3\", element=\"f.A4BE6E5EEE2978422CCFAD5A43B3C307.d.C958F7684345DA10ABB5AC49529B27B6.e.170\")>, <selenium.webdriver.remote.webelement.WebElement (session=\"bed10c7e75fa27ab01b806aea4dfdec3\", element=\"f.A4BE6E5EEE2978422CCFAD5A43B3C307.d.C958F7684345DA10ABB5AC49529B27B6.e.172\")>, <selenium.webdriver.remote.webelement.WebElement (session=\"bed10c7e75fa27ab01b806aea4dfdec3\", element=\"f.A4BE6E5EEE2978422CCFAD5A43B3C307.d.C958F7684345DA10ABB5AC49529B27B6.e.174\")>, <selenium.webdriver.remote.webelement.WebElement (session=\"bed10c7e75fa27ab01b806aea4dfdec3\", element=\"f.A4BE6E5EEE2978422CCFAD5A43B3C307.d.C958F7684345DA10ABB5AC49529B27B6.e.176\")>, <selenium.webdriver.remote.webelement.WebElement (session=\"bed10c7e75fa27ab01b806aea4dfdec3\", element=\"f.A4BE6E5EEE2978422CCFAD5A43B3C307.d.C958F7684345DA10ABB5AC49529B27B6.e.178\")>, <selenium.webdriver.remote.webelement.WebElement (session=\"bed10c7e75fa27ab01b806aea4dfdec3\", element=\"f.A4BE6E5EEE2978422CCFAD5A43B3C307.d.C958F7684345DA10ABB5AC49529B27B6.e.180\")>, <selenium.webdriver.remote.webelement.WebElement (session=\"bed10c7e75fa27ab01b806aea4dfdec3\", element=\"f.A4BE6E5EEE2978422CCFAD5A43B3C307.d.C958F7684345DA10ABB5AC49529B27B6.e.182\")>, <selenium.webdriver.remote.webelement.WebElement (session=\"bed10c7e75fa27ab01b806aea4dfdec3\", element=\"f.A4BE6E5EEE2978422CCFAD5A43B3C307.d.C958F7684345DA10ABB5AC49529B27B6.e.184\")>, <selenium.webdriver.remote.webelement.WebElement (session=\"bed10c7e75fa27ab01b806aea4dfdec3\", element=\"f.A4BE6E5EEE2978422CCFAD5A43B3C307.d.C958F7684345DA10ABB5AC49529B27B6.e.186\")>, <selenium.webdriver.remote.webelement.WebElement (session=\"bed10c7e75fa27ab01b806aea4dfdec3\", element=\"f.A4BE6E5EEE2978422CCFAD5A43B3C307.d.C958F7684345DA10ABB5AC49529B27B6.e.188\")>, <selenium.webdriver.remote.webelement.WebElement (session=\"bed10c7e75fa27ab01b806aea4dfdec3\", element=\"f.A4BE6E5EEE2978422CCFAD5A43B3C307.d.C958F7684345DA10ABB5AC49529B27B6.e.190\")>, <selenium.webdriver.remote.webelement.WebElement (session=\"bed10c7e75fa27ab01b806aea4dfdec3\", element=\"f.A4BE6E5EEE2978422CCFAD5A43B3C307.d.C958F7684345DA10ABB5AC49529B27B6.e.192\")>, <selenium.webdriver.remote.webelement.WebElement (session=\"bed10c7e75fa27ab01b806aea4dfdec3\", element=\"f.A4BE6E5EEE2978422CCFAD5A43B3C307.d.C958F7684345DA10ABB5AC49529B27B6.e.194\")>, <selenium.webdriver.remote.webelement.WebElement (session=\"bed10c7e75fa27ab01b806aea4dfdec3\", element=\"f.A4BE6E5EEE2978422CCFAD5A43B3C307.d.C958F7684345DA10ABB5AC49529B27B6.e.196\")>, <selenium.webdriver.remote.webelement.WebElement (session=\"bed10c7e75fa27ab01b806aea4dfdec3\", element=\"f.A4BE6E5EEE2978422CCFAD5A43B3C307.d.C958F7684345DA10ABB5AC49529B27B6.e.198\")>, <selenium.webdriver.remote.webelement.WebElement (session=\"bed10c7e75fa27ab01b806aea4dfdec3\", element=\"f.A4BE6E5EEE2978422CCFAD5A43B3C307.d.C958F7684345DA10ABB5AC49529B27B6.e.200\")>, <selenium.webdriver.remote.webelement.WebElement (session=\"bed10c7e75fa27ab01b806aea4dfdec3\", element=\"f.A4BE6E5EEE2978422CCFAD5A43B3C307.d.C958F7684345DA10ABB5AC49529B27B6.e.202\")>, <selenium.webdriver.remote.webelement.WebElement (session=\"bed10c7e75fa27ab01b806aea4dfdec3\", element=\"f.A4BE6E5EEE2978422CCFAD5A43B3C307.d.C958F7684345DA10ABB5AC49529B27B6.e.204\")>, <selenium.webdriver.remote.webelement.WebElement (session=\"bed10c7e75fa27ab01b806aea4dfdec3\", element=\"f.A4BE6E5EEE2978422CCFAD5A43B3C307.d.C958F7684345DA10ABB5AC49529B27B6.e.206\")>]\n",
      "{'https://i.natgeofe.com/n/548467d8-c5f1-4551-9f58-6817a8d2c45e/NationalGeographic_2572187_square.jpg'}\n",
      "1\n",
      "{'https://i.natgeofe.com/n/548467d8-c5f1-4551-9f58-6817a8d2c45e/NationalGeographic_2572187_square.jpg', 'https://cdn.britannica.com/70/234870-050-D4D024BB/Orange-colored-cat-yawns-displaying-teeth.jpg'}\n",
      "2\n",
      "{'https://i.natgeofe.com/n/548467d8-c5f1-4551-9f58-6817a8d2c45e/NationalGeographic_2572187_square.jpg', 'https://cdn.britannica.com/70/234870-050-D4D024BB/Orange-colored-cat-yawns-displaying-teeth.jpg', 'https://upload.wikimedia.org/wikipedia/commons/thumb/1/15/Cat_August_2010-4.jpg/1200px-Cat_August_2010-4.jpg'}\n",
      "3\n",
      "{'https://cdn.britannica.com/34/235834-050-C5843610/two-different-breeds-of-cats-side-by-side-outdoors-in-the-garden.jpg', 'https://i.natgeofe.com/n/548467d8-c5f1-4551-9f58-6817a8d2c45e/NationalGeographic_2572187_square.jpg', 'https://cdn.britannica.com/70/234870-050-D4D024BB/Orange-colored-cat-yawns-displaying-teeth.jpg', 'https://upload.wikimedia.org/wikipedia/commons/thumb/1/15/Cat_August_2010-4.jpg/1200px-Cat_August_2010-4.jpg'}\n",
      "4\n",
      "{'https://media.4-paws.org/5/b/4/b/5b4b5a91dd9443fa1785ee7fca66850e06dcc7f9/VIER%20PFOTEN_2019-12-13_209-2890x2000-1920x1329.jpg', 'https://cdn.britannica.com/70/234870-050-D4D024BB/Orange-colored-cat-yawns-displaying-teeth.jpg', 'https://i.natgeofe.com/n/548467d8-c5f1-4551-9f58-6817a8d2c45e/NationalGeographic_2572187_square.jpg', 'https://cdn.britannica.com/34/235834-050-C5843610/two-different-breeds-of-cats-side-by-side-outdoors-in-the-garden.jpg', 'https://upload.wikimedia.org/wikipedia/commons/thumb/1/15/Cat_August_2010-4.jpg/1200px-Cat_August_2010-4.jpg'}\n",
      "5\n",
      "totalLinks {'https://media.4-paws.org/5/b/4/b/5b4b5a91dd9443fa1785ee7fca66850e06dcc7f9/VIER%20PFOTEN_2019-12-13_209-2890x2000-1920x1329.jpg', 'https://cdn.britannica.com/70/234870-050-D4D024BB/Orange-colored-cat-yawns-displaying-teeth.jpg', 'https://i.natgeofe.com/n/548467d8-c5f1-4551-9f58-6817a8d2c45e/NationalGeographic_2572187_square.jpg', 'https://cdn.britannica.com/34/235834-050-C5843610/two-different-breeds-of-cats-side-by-side-outdoors-in-the-garden.jpg', 'https://upload.wikimedia.org/wikipedia/commons/thumb/1/15/Cat_August_2010-4.jpg/1200px-Cat_August_2010-4.jpg'}\n",
      "SAVED - https://media.4-paws.org/5/b/4/b/5b4b5a91dd9443fa1785ee7fca66850e06dcc7f9/VIER%20PFOTEN_2019-12-13_209-2890x2000-1920x1329.jpg - AT: D:/Hoa_7.2\\cat\\                                                                                                                                                     0.jpg\n",
      "SAVED - https://cdn.britannica.com/70/234870-050-D4D024BB/Orange-colored-cat-yawns-displaying-teeth.jpg - AT: D:/Hoa_7.2\\cat\\                                                                                                                                                     1.jpg\n",
      "SAVED - https://i.natgeofe.com/n/548467d8-c5f1-4551-9f58-6817a8d2c45e/NationalGeographic_2572187_square.jpg - AT: D:/Hoa_7.2\\cat\\                                                                                                                                                     2.jpg\n",
      "SAVED - https://cdn.britannica.com/34/235834-050-C5843610/two-different-breeds-of-cats-side-by-side-outdoors-in-the-garden.jpg - AT: D:/Hoa_7.2\\cat\\                                                                                                                                                     3.jpg\n",
      "SAVED - https://upload.wikimedia.org/wikipedia/commons/thumb/1/15/Cat_August_2010-4.jpg/1200px-Cat_August_2010-4.jpg - AT: D:/Hoa_7.2\\cat\\                                                                                                                                                     4.jpg\n"
     ]
    }
   ],
   "source": [
    "!pip install selenium\n",
    "import sys\n",
    "sys.path.insert(0,'/usr/lib/chromium-browser/chromedriver')\n",
    "\n",
    "\n",
    "from selenium import webdriver\n",
    "from selenium.webdriver.common.by import By\n",
    "import time\n",
    "import requests\n",
    "import shutil\n",
    "import os\n",
    "import getpass\n",
    "import urllib.request\n",
    "import io\n",
    "import time\n",
    "from PIL import Image\n",
    "user = getpass.getuser()\n",
    "chrome_options = webdriver.ChromeOptions()\n",
    "chrome_options.add_argument('--headless')\n",
    "chrome_options.add_argument('--no-sandbox')\n",
    "chrome_options.add_argument('--disable-dev-shm-usage')\n",
    "\n",
    "driver = webdriver.Chrome()\n",
    "\n",
    "def scroll_to_end(driver):\n",
    "    driver.execute_script(\"window.scrollTo(0, document.body.scrollHeight);\")\n",
    "    time.sleep(5)#sleep_between_interactions\n",
    "\n",
    "    \n",
    "def getImageUrls(name,totalImgs,driver):\n",
    "    search_url = \"https://www.google.com/search?q=cat&tbm=isch&ved=2ahUKEwjNn_Gn7YyFAxU3yDgGHQYQCesQ2-cCegQIABAA&oq=cat&gs_lp=EgNpbWciA2NhdDINEAAYgAQYigUYQxixAzIIEAAYgAQYsQMyDhAAGIAEGIoFGLEDGIMBMggQABiABBixAzILEAAYgAQYsQMYgwEyCBAAGIAEGLEDMggQABiABBixAzIFEAAYgAQyCBAAGIAEGLEDMggQABiABBixA0iqGVCADlilF3AAeACQAQCYAVegAc0CqgEBNLgBA8gBAPgBAYoCC2d3cy13aXotaW1nwgIKEAAYgAQYigUYQ4gGAQ&sclient=img&ei=WBYAZs2TMLeQ4-EPhqCk2A4&bih=568&biw=1251&hl=en\"\n",
    "    driver.get(search_url)\n",
    "    img_urls = set()\n",
    "    img_count = 0\n",
    "    results_start = 0\n",
    "    \n",
    "    while(img_count+results_start<totalImgs): #Extract actual images now\n",
    "        scroll_to_end(driver)\n",
    "        totalResults = driver.find_elements(By.CLASS_NAME,\"Q4LuWd\")       \n",
    "        print('total results:', len(totalResults))\n",
    "        print(f\"Found: {totalResults} search results. Extracting links from{results_start}:{totalResults}\")\n",
    "        for img in totalResults[results_start:totalImgs]:\n",
    "            img.click()\n",
    "            time.sleep(5)\n",
    "            image = driver.find_element(By.CLASS_NAME,'iPVvYb')\n",
    "            img_urls.add(image.get_attribute('src'))\n",
    "            print(img_urls)\n",
    "            img_count=len(img_urls)\n",
    "            print(img_count)\n",
    "                    \n",
    "    return img_urls\n",
    "\n",
    "def downloadImages(folder_path,file_name,url):\n",
    "    try:\n",
    "        image_content = requests.get(url).content\n",
    "    except Exception as e:\n",
    "        print(f\"ERROR - COULD NOT DOWNLOAD {url} - {e}\")\n",
    "    try:\n",
    "        image_file = io.BytesIO(image_content)\n",
    "        image = Image.open(image_file).convert('RGB')\n",
    "        file_path = os.path.join(folder_path, file_name)\n",
    "        with open(file_path, 'wb') as f:\n",
    "            image.save(f, \"JPEG\", quality=85)\n",
    "        print(f\"SAVED - {url} - AT: {file_path}\")\n",
    "    except Exception as e:\n",
    "        print(f\"ERROR - COULD NOT SAVE {url} - {e}\")\n",
    "        \n",
    "def saveInDestFolder(searchNames,destDir,totalImgs,driver):\n",
    "    for name in list(searchNames):\n",
    "        path=os.path.join(destDir,name)\n",
    "        if not os.path.isdir(path):\n",
    "            os.mkdir(path)\n",
    "        print('Current Path',path)\n",
    "        totalLinks=getImageUrls(name,totalImgs,driver)\n",
    "        print('totalLinks',totalLinks)\n",
    "        \n",
    "    if totalLinks is None:\n",
    "        print('images not found for :',name)\n",
    "        \n",
    "    else:\n",
    "        for i, link in enumerate(totalLinks):\n",
    "            file_name = f\"{i:150}.jpg\"\n",
    "            downloadImages(path,file_name,link)\n",
    "            \n",
    "searchNames=['cat']\n",
    "destDir=f'D:/Hoa_7.2'\n",
    "totalImgs=5\n",
    "\n",
    "saveInDestFolder(searchNames,destDir,totalImgs,driver)"
   ]
  },
  {
   "cell_type": "markdown",
   "id": "8d7b7334-ee53-40fd-8e44-5f22f86cb689",
   "metadata": {},
   "source": [
    "# **Web Scraping of Movies Information using BeautifulSoup**"
   ]
  },
  {
   "cell_type": "code",
   "execution_count": 17,
   "id": "1bed6921-85d8-4bfc-b65a-0f3ea4b95db2",
   "metadata": {},
   "outputs": [
    {
     "name": "stdout",
     "output_type": "stream",
     "text": [
      "<!DOCTYPE html><html lang=\"en-US\" xmlns:og=\"http://opengraphprotocol.org/schema/\" xmlns:fb=\"http://www.facebook.com/2008/fbml\"><head><meta charSet=\"utf-8\"/><meta name=\"viewport\" content=\"width=device-width\"/><script>if(typeof uet === 'function'){ uet('bb', 'LoadTitle', {wb: 1}); }</script><script>window.addEventListener('load', (event) => {\n",
      "        if (typeof window.csa !== 'undefined' && typeof window.csa === 'function') {\n",
      "            var csaLatencyPlugin = window.csa('Content', {\n",
      "             \n"
     ]
    }
   ],
   "source": [
    "from requests import get\n",
    "url = 'https://www.imdb.com/search/title?release_date=2017&sort=num_votes,desc&page=1'\n",
    "agent = {\"User-Agent\":\"Mozilla/5.0 (Windows NT 10.0; Win64; x64) AppleWebKit/537.36 (KHTML, like Gecko) Chrome/123.0.0.0 Safari/537.36\"}\n",
    "response = get(url,headers = agent)\n",
    "print(response.text[:500])"
   ]
  },
  {
   "cell_type": "code",
   "execution_count": 18,
   "id": "836597e1-5a3c-409c-b3b3-4c6e2cc783e1",
   "metadata": {},
   "outputs": [
    {
     "data": {
      "text/plain": [
       "bs4.BeautifulSoup"
      ]
     },
     "execution_count": 18,
     "metadata": {},
     "output_type": "execute_result"
    }
   ],
   "source": [
    "from bs4 import BeautifulSoup\n",
    "html_soup = BeautifulSoup(response.text, 'html.parser')\n",
    "headers = {'Accept-Language': 'en-US,en;q=0.8'}\n",
    "type(html_soup)"
   ]
  },
  {
   "cell_type": "code",
   "execution_count": 21,
   "id": "4b8585a8-36d2-46a1-922a-3b4514c0ef03",
   "metadata": {},
   "outputs": [
    {
     "name": "stdout",
     "output_type": "stream",
     "text": [
      "<class 'bs4.element.ResultSet'>\n",
      "50\n"
     ]
    }
   ],
   "source": [
    "movie_containers = html_soup.find_all('div', class_ = 'sc-ab6fa25a-3 bVYfLY dli-parent')\n",
    "print(type(movie_containers))\n",
    "print(len(movie_containers))"
   ]
  },
  {
   "cell_type": "code",
   "execution_count": 25,
   "id": "2fcabd50-499c-4c4d-9819-5c38443307cc",
   "metadata": {},
   "outputs": [
    {
     "data": {
      "text/plain": [
       "<div class=\"sc-ab6fa25a-3 bVYfLY dli-parent\"><div class=\"sc-ab6fa25a-2 gOsifL\"><div class=\"sc-e5a25b0f-0 jQjDIb dli-poster-container\"><div class=\"ipc-poster ipc-poster--base ipc-poster--dynamic-width ipc-sub-grid-item ipc-sub-grid-item--span-2\" role=\"group\"><div aria-label=\"add to watchlist\" class=\"ipc-watchlist-ribbon ipc-focusable ipc-watchlist-ribbon--s ipc-watchlist-ribbon--base ipc-watchlist-ribbon--loading ipc-watchlist-ribbon--onImage ipc-poster__watchlist-ribbon\" role=\"button\" tabindex=\"0\"><svg class=\"ipc-watchlist-ribbon__bg\" height=\"34px\" role=\"presentation\" viewbox=\"0 0 24 34\" width=\"24px\" xmlns=\"http://www.w3.org/2000/svg\"><polygon class=\"ipc-watchlist-ribbon__bg-ribbon\" fill=\"#000000\" points=\"24 0 0 0 0 32 12.2436611 26.2926049 24 31.7728343\"></polygon><polygon class=\"ipc-watchlist-ribbon__bg-hover\" points=\"24 0 0 0 0 32 12.2436611 26.2926049 24 31.7728343\"></polygon><polygon class=\"ipc-watchlist-ribbon__bg-shadow\" points=\"24 31.7728343 24 33.7728343 12.2436611 28.2926049 0 34 0 32 12.2436611 26.2926049\"></polygon></svg><div class=\"ipc-watchlist-ribbon__icon\" role=\"presentation\"><svg class=\"ipc-loader ipc-loader--circle ipc-watchlist-ribbon__loader\" data-testid=\"watchlist-ribbon-loader\" height=\"48px\" role=\"presentation\" version=\"1.1\" viewbox=\"0 0 48 48\" width=\"48px\" xmlns=\"http://www.w3.org/2000/svg\"><g class=\"ipc-loader__container\" fill=\"currentColor\"><circle class=\"ipc-loader__circle ipc-loader__circle--one\" cx=\"24\" cy=\"9\" r=\"4\"></circle><circle class=\"ipc-loader__circle ipc-loader__circle--two\" cx=\"35\" cy=\"14\" r=\"4\"></circle><circle class=\"ipc-loader__circle ipc-loader__circle--three\" cx=\"39\" cy=\"24\" r=\"4\"></circle><circle class=\"ipc-loader__circle ipc-loader__circle--four\" cx=\"35\" cy=\"34\" r=\"4\"></circle><circle class=\"ipc-loader__circle ipc-loader__circle--five\" cx=\"24\" cy=\"39\" r=\"4\"></circle><circle class=\"ipc-loader__circle ipc-loader__circle--six\" cx=\"13\" cy=\"34\" r=\"4\"></circle><circle class=\"ipc-loader__circle ipc-loader__circle--seven\" cx=\"9\" cy=\"24\" r=\"4\"></circle><circle class=\"ipc-loader__circle ipc-loader__circle--eight\" cx=\"13\" cy=\"14\" r=\"4\"></circle></g></svg></div></div><div class=\"ipc-media ipc-media--poster-27x40 ipc-image-media-ratio--poster-27x40 ipc-media--base ipc-media--poster-m ipc-poster__poster-image ipc-media__img\" style=\"width:100%\"><img alt=\"Hugh Jackman in Logan (2017)\" class=\"ipc-image\" loading=\"lazy\" sizes=\"50vw, (min-width: 480px) 34vw, (min-width: 600px) 26vw, (min-width: 1024px) 16vw, (min-width: 1280px) 16vw\" src=\"https://m.media-amazon.com/images/M/MV5BYzc5MTU4N2EtYTkyMi00NjdhLTg3NWEtMTY4OTEyMzJhZTAzXkEyXkFqcGdeQXVyNjc1NTYyMjg@._V1_QL75_UX140_CR0,1,140,207_.jpg\" srcset=\"https://m.media-amazon.com/images/M/MV5BYzc5MTU4N2EtYTkyMi00NjdhLTg3NWEtMTY4OTEyMzJhZTAzXkEyXkFqcGdeQXVyNjc1NTYyMjg@._V1_QL75_UX140_CR0,1,140,207_.jpg 140w, https://m.media-amazon.com/images/M/MV5BYzc5MTU4N2EtYTkyMi00NjdhLTg3NWEtMTY4OTEyMzJhZTAzXkEyXkFqcGdeQXVyNjc1NTYyMjg@._V1_QL75_UX210_CR0,2,210,311_.jpg 210w, https://m.media-amazon.com/images/M/MV5BYzc5MTU4N2EtYTkyMi00NjdhLTg3NWEtMTY4OTEyMzJhZTAzXkEyXkFqcGdeQXVyNjc1NTYyMjg@._V1_QL75_UX280_CR0,3,280,414_.jpg 280w\" width=\"140\"/></div><a aria-label=\"View title page for Logan\" class=\"ipc-lockup-overlay ipc-focusable\" href=\"/title/tt3315342/?ref_=sr_i_1\"><div class=\"ipc-lockup-overlay__screen\"></div></a></div></div><div class=\"sc-b0691f29-0 jbYPfh\"><div class=\"ipc-title ipc-title--base ipc-title--title ipc-title-link-no-icon ipc-title--on-textPrimary sc-b0691f29-9 klOwFB dli-title\"><a class=\"ipc-title-link-wrapper\" href=\"/title/tt3315342/?ref_=sr_t_1\" tabindex=\"0\"><h3 class=\"ipc-title__text\">1. Logan</h3></a></div><div class=\"sc-b0691f29-7 hrgukm dli-title-metadata\"><span class=\"sc-b0691f29-8 ilsLEX dli-title-metadata-item\">2017</span><span class=\"sc-b0691f29-8 ilsLEX dli-title-metadata-item\">2h 17m</span><span class=\"sc-b0691f29-8 ilsLEX dli-title-metadata-item\">R-16</span></div><span class=\"sc-b0691f29-1 grHDBY\"><div class=\"sc-e2dbc1a3-0 ajrIH sc-b0691f29-2 bhhtyj dli-ratings-container\" data-testid=\"ratingGroup--container\"><span aria-label=\"IMDb rating: 8.1\" class=\"ipc-rating-star ipc-rating-star--base ipc-rating-star--imdb ratingGroup--imdb-rating\" data-testid=\"ratingGroup--imdb-rating\"><svg class=\"ipc-icon ipc-icon--star-inline\" fill=\"currentColor\" height=\"24\" role=\"presentation\" viewbox=\"0 0 24 24\" width=\"24\" xmlns=\"http://www.w3.org/2000/svg\"><path d=\"M12 20.1l5.82 3.682c1.066.675 2.37-.322 2.09-1.584l-1.543-6.926 5.146-4.667c.94-.85.435-2.465-.799-2.567l-6.773-.602L13.29.89a1.38 1.38 0 0 0-2.581 0l-2.65 6.53-6.774.602C.052 8.126-.453 9.74.486 10.59l5.147 4.666-1.542 6.926c-.28 1.262 1.023 2.26 2.09 1.585L12 20.099z\"></path></svg>8.1<span class=\"ipc-rating-star--voteCount\"> (<!-- -->827K<!-- -->)</span></span><button aria-label=\"Rate Logan\" class=\"ipc-rate-button sc-e2dbc1a3-1 jboOQc ratingGroup--user-rating ipc-rate-button--unrated ipc-rate-button--base\" data-testid=\"rate-button\"><span class=\"ipc-rating-star ipc-rating-star--base ipc-rating-star--rate\"><svg class=\"ipc-icon ipc-icon--star-border-inline\" fill=\"currentColor\" height=\"24\" role=\"presentation\" viewbox=\"0 0 24 24\" width=\"24\" xmlns=\"http://www.w3.org/2000/svg\"><path d=\"M22.724 8.217l-6.786-.587-2.65-6.22c-.477-1.133-2.103-1.133-2.58 0l-2.65 6.234-6.772.573c-1.234.098-1.739 1.636-.8 2.446l5.146 4.446-1.542 6.598c-.28 1.202 1.023 2.153 2.09 1.51l5.818-3.495 5.819 3.509c1.065.643 2.37-.308 2.089-1.51l-1.542-6.612 5.145-4.446c.94-.81.45-2.348-.785-2.446zm-10.726 8.89l-5.272 3.174 1.402-5.983-4.655-4.026 6.141-.531 2.384-5.634 2.398 5.648 6.14.531-4.654 4.026 1.402 5.983-5.286-3.187z\"></path></svg><span class=\"ipc-rating-star--rate\">Rate</span></span></button></div><span class=\"sc-b0691f29-11 TmkKM\"><span class=\"sc-b0901df4-0 bcQdDJ metacritic-score-box\" style=\"background-color:#54A72A\">77</span><span class=\"metacritic-score-label\">Metascore</span></span></span></div><div class=\"sc-ab6fa25a-4 ggHbBR dli-post-element\"><button aria-disabled=\"false\" aria-label=\"See more information about Logan\" class=\"ipc-icon-button dli-info-icon ipc-icon-button--base ipc-icon-button--onAccent2\" role=\"button\" tabindex=\"0\" title=\"See more information about Logan\"><svg class=\"ipc-icon ipc-icon--info\" fill=\"currentColor\" height=\"24\" role=\"presentation\" viewbox=\"0 0 24 24\" width=\"24\" xmlns=\"http://www.w3.org/2000/svg\"><path d=\"M0 0h24v24H0V0z\" fill=\"none\"></path><path d=\"M11 7h2v2h-2zm0 4h2v6h-2zm1-9C6.48 2 2 6.48 2 12s4.48 10 10 10 10-4.48 10-10S17.52 2 12 2zm0 18c-4.41 0-8-3.59-8-8s3.59-8 8-8 8 3.59 8 8-3.59 8-8 8z\"></path></svg></button></div></div><div class=\"sc-ab6fa25a-1 bBwFsP\"><div class=\"ipc-html-content ipc-html-content--base sc-ab6fa25a-0 bhexuD dli-plot-container\" role=\"presentation\"><div class=\"ipc-html-content-inner-div\">In a future where mutants are nearly extinct, an elderly and weary Logan leads a quiet life. But when Laura, a mutant child pursued by scientists, comes to him for help, he must get her to safety.</div></div></div></div>"
      ]
     },
     "execution_count": 25,
     "metadata": {},
     "output_type": "execute_result"
    }
   ],
   "source": [
    "first_movie = movie_containers[0]\n",
    "first_movie"
   ]
  },
  {
   "cell_type": "code",
   "execution_count": 23,
   "id": "90cbec5c-e245-4afd-9062-6811080145da",
   "metadata": {},
   "outputs": [
    {
     "data": {
      "text/plain": [
       "<div class=\"sc-ab6fa25a-2 gOsifL\"><div class=\"sc-e5a25b0f-0 jQjDIb dli-poster-container\"><div class=\"ipc-poster ipc-poster--base ipc-poster--dynamic-width ipc-sub-grid-item ipc-sub-grid-item--span-2\" role=\"group\"><div aria-label=\"add to watchlist\" class=\"ipc-watchlist-ribbon ipc-focusable ipc-watchlist-ribbon--s ipc-watchlist-ribbon--base ipc-watchlist-ribbon--loading ipc-watchlist-ribbon--onImage ipc-poster__watchlist-ribbon\" role=\"button\" tabindex=\"0\"><svg class=\"ipc-watchlist-ribbon__bg\" height=\"34px\" role=\"presentation\" viewbox=\"0 0 24 34\" width=\"24px\" xmlns=\"http://www.w3.org/2000/svg\"><polygon class=\"ipc-watchlist-ribbon__bg-ribbon\" fill=\"#000000\" points=\"24 0 0 0 0 32 12.2436611 26.2926049 24 31.7728343\"></polygon><polygon class=\"ipc-watchlist-ribbon__bg-hover\" points=\"24 0 0 0 0 32 12.2436611 26.2926049 24 31.7728343\"></polygon><polygon class=\"ipc-watchlist-ribbon__bg-shadow\" points=\"24 31.7728343 24 33.7728343 12.2436611 28.2926049 0 34 0 32 12.2436611 26.2926049\"></polygon></svg><div class=\"ipc-watchlist-ribbon__icon\" role=\"presentation\"><svg class=\"ipc-loader ipc-loader--circle ipc-watchlist-ribbon__loader\" data-testid=\"watchlist-ribbon-loader\" height=\"48px\" role=\"presentation\" version=\"1.1\" viewbox=\"0 0 48 48\" width=\"48px\" xmlns=\"http://www.w3.org/2000/svg\"><g class=\"ipc-loader__container\" fill=\"currentColor\"><circle class=\"ipc-loader__circle ipc-loader__circle--one\" cx=\"24\" cy=\"9\" r=\"4\"></circle><circle class=\"ipc-loader__circle ipc-loader__circle--two\" cx=\"35\" cy=\"14\" r=\"4\"></circle><circle class=\"ipc-loader__circle ipc-loader__circle--three\" cx=\"39\" cy=\"24\" r=\"4\"></circle><circle class=\"ipc-loader__circle ipc-loader__circle--four\" cx=\"35\" cy=\"34\" r=\"4\"></circle><circle class=\"ipc-loader__circle ipc-loader__circle--five\" cx=\"24\" cy=\"39\" r=\"4\"></circle><circle class=\"ipc-loader__circle ipc-loader__circle--six\" cx=\"13\" cy=\"34\" r=\"4\"></circle><circle class=\"ipc-loader__circle ipc-loader__circle--seven\" cx=\"9\" cy=\"24\" r=\"4\"></circle><circle class=\"ipc-loader__circle ipc-loader__circle--eight\" cx=\"13\" cy=\"14\" r=\"4\"></circle></g></svg></div></div><div class=\"ipc-media ipc-media--poster-27x40 ipc-image-media-ratio--poster-27x40 ipc-media--base ipc-media--poster-m ipc-poster__poster-image ipc-media__img\" style=\"width:100%\"><img alt=\"Hugh Jackman in Logan (2017)\" class=\"ipc-image\" loading=\"lazy\" sizes=\"50vw, (min-width: 480px) 34vw, (min-width: 600px) 26vw, (min-width: 1024px) 16vw, (min-width: 1280px) 16vw\" src=\"https://m.media-amazon.com/images/M/MV5BYzc5MTU4N2EtYTkyMi00NjdhLTg3NWEtMTY4OTEyMzJhZTAzXkEyXkFqcGdeQXVyNjc1NTYyMjg@._V1_QL75_UX140_CR0,1,140,207_.jpg\" srcset=\"https://m.media-amazon.com/images/M/MV5BYzc5MTU4N2EtYTkyMi00NjdhLTg3NWEtMTY4OTEyMzJhZTAzXkEyXkFqcGdeQXVyNjc1NTYyMjg@._V1_QL75_UX140_CR0,1,140,207_.jpg 140w, https://m.media-amazon.com/images/M/MV5BYzc5MTU4N2EtYTkyMi00NjdhLTg3NWEtMTY4OTEyMzJhZTAzXkEyXkFqcGdeQXVyNjc1NTYyMjg@._V1_QL75_UX210_CR0,2,210,311_.jpg 210w, https://m.media-amazon.com/images/M/MV5BYzc5MTU4N2EtYTkyMi00NjdhLTg3NWEtMTY4OTEyMzJhZTAzXkEyXkFqcGdeQXVyNjc1NTYyMjg@._V1_QL75_UX280_CR0,3,280,414_.jpg 280w\" width=\"140\"/></div><a aria-label=\"View title page for Logan\" class=\"ipc-lockup-overlay ipc-focusable\" href=\"/title/tt3315342/?ref_=sr_i_1\"><div class=\"ipc-lockup-overlay__screen\"></div></a></div></div><div class=\"sc-b0691f29-0 jbYPfh\"><div class=\"ipc-title ipc-title--base ipc-title--title ipc-title-link-no-icon ipc-title--on-textPrimary sc-b0691f29-9 klOwFB dli-title\"><a class=\"ipc-title-link-wrapper\" href=\"/title/tt3315342/?ref_=sr_t_1\" tabindex=\"0\"><h3 class=\"ipc-title__text\">1. Logan</h3></a></div><div class=\"sc-b0691f29-7 hrgukm dli-title-metadata\"><span class=\"sc-b0691f29-8 ilsLEX dli-title-metadata-item\">2017</span><span class=\"sc-b0691f29-8 ilsLEX dli-title-metadata-item\">2h 17m</span><span class=\"sc-b0691f29-8 ilsLEX dli-title-metadata-item\">R-16</span></div><span class=\"sc-b0691f29-1 grHDBY\"><div class=\"sc-e2dbc1a3-0 ajrIH sc-b0691f29-2 bhhtyj dli-ratings-container\" data-testid=\"ratingGroup--container\"><span aria-label=\"IMDb rating: 8.1\" class=\"ipc-rating-star ipc-rating-star--base ipc-rating-star--imdb ratingGroup--imdb-rating\" data-testid=\"ratingGroup--imdb-rating\"><svg class=\"ipc-icon ipc-icon--star-inline\" fill=\"currentColor\" height=\"24\" role=\"presentation\" viewbox=\"0 0 24 24\" width=\"24\" xmlns=\"http://www.w3.org/2000/svg\"><path d=\"M12 20.1l5.82 3.682c1.066.675 2.37-.322 2.09-1.584l-1.543-6.926 5.146-4.667c.94-.85.435-2.465-.799-2.567l-6.773-.602L13.29.89a1.38 1.38 0 0 0-2.581 0l-2.65 6.53-6.774.602C.052 8.126-.453 9.74.486 10.59l5.147 4.666-1.542 6.926c-.28 1.262 1.023 2.26 2.09 1.585L12 20.099z\"></path></svg>8.1<span class=\"ipc-rating-star--voteCount\"> (<!-- -->827K<!-- -->)</span></span><button aria-label=\"Rate Logan\" class=\"ipc-rate-button sc-e2dbc1a3-1 jboOQc ratingGroup--user-rating ipc-rate-button--unrated ipc-rate-button--base\" data-testid=\"rate-button\"><span class=\"ipc-rating-star ipc-rating-star--base ipc-rating-star--rate\"><svg class=\"ipc-icon ipc-icon--star-border-inline\" fill=\"currentColor\" height=\"24\" role=\"presentation\" viewbox=\"0 0 24 24\" width=\"24\" xmlns=\"http://www.w3.org/2000/svg\"><path d=\"M22.724 8.217l-6.786-.587-2.65-6.22c-.477-1.133-2.103-1.133-2.58 0l-2.65 6.234-6.772.573c-1.234.098-1.739 1.636-.8 2.446l5.146 4.446-1.542 6.598c-.28 1.202 1.023 2.153 2.09 1.51l5.818-3.495 5.819 3.509c1.065.643 2.37-.308 2.089-1.51l-1.542-6.612 5.145-4.446c.94-.81.45-2.348-.785-2.446zm-10.726 8.89l-5.272 3.174 1.402-5.983-4.655-4.026 6.141-.531 2.384-5.634 2.398 5.648 6.14.531-4.654 4.026 1.402 5.983-5.286-3.187z\"></path></svg><span class=\"ipc-rating-star--rate\">Rate</span></span></button></div><span class=\"sc-b0691f29-11 TmkKM\"><span class=\"sc-b0901df4-0 bcQdDJ metacritic-score-box\" style=\"background-color:#54A72A\">77</span><span class=\"metacritic-score-label\">Metascore</span></span></span></div><div class=\"sc-ab6fa25a-4 ggHbBR dli-post-element\"><button aria-disabled=\"false\" aria-label=\"See more information about Logan\" class=\"ipc-icon-button dli-info-icon ipc-icon-button--base ipc-icon-button--onAccent2\" role=\"button\" tabindex=\"0\" title=\"See more information about Logan\"><svg class=\"ipc-icon ipc-icon--info\" fill=\"currentColor\" height=\"24\" role=\"presentation\" viewbox=\"0 0 24 24\" width=\"24\" xmlns=\"http://www.w3.org/2000/svg\"><path d=\"M0 0h24v24H0V0z\" fill=\"none\"></path><path d=\"M11 7h2v2h-2zm0 4h2v6h-2zm1-9C6.48 2 2 6.48 2 12s4.48 10 10 10 10-4.48 10-10S17.52 2 12 2zm0 18c-4.41 0-8-3.59-8-8s3.59-8 8-8 8 3.59 8 8-3.59 8-8 8z\"></path></svg></button></div></div>"
      ]
     },
     "execution_count": 23,
     "metadata": {},
     "output_type": "execute_result"
    }
   ],
   "source": [
    "first_movie.div"
   ]
  },
  {
   "cell_type": "code",
   "execution_count": 26,
   "id": "1a337873-2af6-473d-a509-1b931fb37064",
   "metadata": {},
   "outputs": [
    {
     "data": {
      "text/plain": [
       "<h3 class=\"ipc-title__text\">1. Logan</h3>"
      ]
     },
     "execution_count": 26,
     "metadata": {},
     "output_type": "execute_result"
    }
   ],
   "source": [
    "first_movie.h3"
   ]
  },
  {
   "cell_type": "code",
   "execution_count": 30,
   "id": "bafd0f96-5f3c-4dbd-a098-d45cce2c7be8",
   "metadata": {},
   "outputs": [],
   "source": [
    "first_movie.h3.a"
   ]
  },
  {
   "cell_type": "code",
   "execution_count": 34,
   "id": "47bf6d89-b6c7-4454-ac8e-94b909be9686",
   "metadata": {},
   "outputs": [
    {
     "data": {
      "text/plain": [
       "'1. Logan'"
      ]
     },
     "execution_count": 34,
     "metadata": {},
     "output_type": "execute_result"
    }
   ],
   "source": [
    "first_name = first_movie.find('h3',class_='ipc-title__text').text\n",
    "first_name"
   ]
  },
  {
   "cell_type": "markdown",
   "id": "7a11c84d-14a1-4ddf-b795-b0152975e251",
   "metadata": {},
   "source": [
    "**The year of the movieʼs release**"
   ]
  },
  {
   "cell_type": "code",
   "execution_count": 41,
   "id": "020ed3c0-837a-4700-98f0-8434d9ebe0d3",
   "metadata": {},
   "outputs": [
    {
     "data": {
      "text/plain": [
       "<span class=\"sc-b0691f29-8 ilsLEX dli-title-metadata-item\">2017</span>"
      ]
     },
     "execution_count": 41,
     "metadata": {},
     "output_type": "execute_result"
    }
   ],
   "source": [
    "first_year = first_movie.find('span', class_ = 'sc-b0691f29-8 ilsLEX dli-title-metadata-item')\n",
    "first_year"
   ]
  },
  {
   "cell_type": "code",
   "execution_count": 42,
   "id": "877c1c9d-c2b8-43e5-8dab-8301f5f167b5",
   "metadata": {},
   "outputs": [
    {
     "data": {
      "text/plain": [
       "'2017'"
      ]
     },
     "execution_count": 42,
     "metadata": {},
     "output_type": "execute_result"
    }
   ],
   "source": [
    "first_year = first_year.text\n",
    "first_year"
   ]
  },
  {
   "cell_type": "markdown",
   "id": "552d887d-6e0e-4649-bc04-b5cd9995e54f",
   "metadata": {},
   "source": [
    "**The IMDB rating**"
   ]
  },
  {
   "cell_type": "code",
   "execution_count": 77,
   "id": "998497f7-de38-466a-a355-a7e345b6668d",
   "metadata": {},
   "outputs": [
    {
     "data": {
      "text/plain": [
       "<span aria-label=\"IMDb rating: 8.1\" class=\"ipc-rating-star ipc-rating-star--base ipc-rating-star--imdb ratingGroup--imdb-rating\" data-testid=\"ratingGroup--imdb-rating\"><svg class=\"ipc-icon ipc-icon--star-inline\" fill=\"currentColor\" height=\"24\" role=\"presentation\" viewbox=\"0 0 24 24\" width=\"24\" xmlns=\"http://www.w3.org/2000/svg\"><path d=\"M12 20.1l5.82 3.682c1.066.675 2.37-.322 2.09-1.584l-1.543-6.926 5.146-4.667c.94-.85.435-2.465-.799-2.567l-6.773-.602L13.29.89a1.38 1.38 0 0 0-2.581 0l-2.65 6.53-6.774.602C.052 8.126-.453 9.74.486 10.59l5.147 4.666-1.542 6.926c-.28 1.262 1.023 2.26 2.09 1.585L12 20.099z\"></path></svg>8.1<span class=\"ipc-rating-star--voteCount\"> (<!-- -->827K<!-- -->)</span></span>"
      ]
     },
     "execution_count": 77,
     "metadata": {},
     "output_type": "execute_result"
    }
   ],
   "source": [
    "first_movie_rating = first_movie.find('span', class_ = 'ipc-rating-star ipc-rating-star--base ipc-rating-star--imdb ratingGroup--imdb-rating')\n",
    "first_movie_rating"
   ]
  },
  {
   "cell_type": "code",
   "execution_count": 78,
   "id": "8f568e5d-ac04-441c-a928-a09cbc93e737",
   "metadata": {},
   "outputs": [
    {
     "data": {
      "text/plain": [
       "'8.1'"
      ]
     },
     "execution_count": 78,
     "metadata": {},
     "output_type": "execute_result"
    }
   ],
   "source": [
    "first_movie_rating = first_movie_rating.text[:3]\n",
    "first_movie_rating"
   ]
  },
  {
   "cell_type": "markdown",
   "id": "b7abfaba-0518-4236-bd3c-d6f52c9df7b6",
   "metadata": {},
   "source": [
    "**The Metascore**"
   ]
  },
  {
   "cell_type": "code",
   "execution_count": 84,
   "id": "dc434921-a221-4015-9059-f49eb7f3c6ce",
   "metadata": {},
   "outputs": [
    {
     "data": {
      "text/plain": [
       "<span class=\"sc-b0901df4-0 bcQdDJ metacritic-score-box\" style=\"background-color:#54A72A\">77</span>"
      ]
     },
     "execution_count": 84,
     "metadata": {},
     "output_type": "execute_result"
    }
   ],
   "source": [
    "first_mscore = first_movie.find('span', class_ = 'sc-b0901df4-0 bcQdDJ metacritic-score-box')\n",
    "first_mscore"
   ]
  },
  {
   "cell_type": "code",
   "execution_count": 85,
   "id": "03164be0-62ca-4019-a0a1-28554e00f2d8",
   "metadata": {},
   "outputs": [
    {
     "data": {
      "text/plain": [
       "'77'"
      ]
     },
     "execution_count": 85,
     "metadata": {},
     "output_type": "execute_result"
    }
   ],
   "source": [
    "first_mscore = first_mscore.text\n",
    "first_mscore"
   ]
  },
  {
   "cell_type": "markdown",
   "id": "fb648d37-76f5-4440-9e02-3b2afcd65dea",
   "metadata": {},
   "source": [
    "**The number of votes**"
   ]
  },
  {
   "cell_type": "code",
   "execution_count": 100,
   "id": "b485329a-fda1-4a30-94f9-d769a00d5519",
   "metadata": {},
   "outputs": [
    {
     "data": {
      "text/plain": [
       "<span aria-label=\"IMDb rating: 8.1\" class=\"ipc-rating-star ipc-rating-star--base ipc-rating-star--imdb ratingGroup--imdb-rating\" data-testid=\"ratingGroup--imdb-rating\"><svg class=\"ipc-icon ipc-icon--star-inline\" fill=\"currentColor\" height=\"24\" role=\"presentation\" viewbox=\"0 0 24 24\" width=\"24\" xmlns=\"http://www.w3.org/2000/svg\"><path d=\"M12 20.1l5.82 3.682c1.066.675 2.37-.322 2.09-1.584l-1.543-6.926 5.146-4.667c.94-.85.435-2.465-.799-2.567l-6.773-.602L13.29.89a1.38 1.38 0 0 0-2.581 0l-2.65 6.53-6.774.602C.052 8.126-.453 9.74.486 10.59l5.147 4.666-1.542 6.926c-.28 1.262 1.023 2.26 2.09 1.585L12 20.099z\"></path></svg>8.1<span class=\"ipc-rating-star--voteCount\"> (<!-- -->827K<!-- -->)</span></span>"
      ]
     },
     "execution_count": 100,
     "metadata": {},
     "output_type": "execute_result"
    }
   ],
   "source": [
    "first_votes = first_movie.find('span', class_ = 'ipc-rating-star ipc-rating-star--base ipc-rating-star--imdb ratingGroup--imdb-rating')\n",
    "first_votes"
   ]
  },
  {
   "cell_type": "code",
   "execution_count": 102,
   "id": "99a2c5e3-ebdb-4cfb-8a0b-296cbf06897a",
   "metadata": {},
   "outputs": [
    {
     "name": "stdout",
     "output_type": "stream",
     "text": [
      "number of votes: 827K\n"
     ]
    }
   ],
   "source": [
    "first_votes = first_votes.text[5:-1]\n",
    "print('number of votes:', first_votes)"
   ]
  },
  {
   "cell_type": "markdown",
   "id": "314b8a6e-9956-4db3-8e7f-2b37d8d1490d",
   "metadata": {},
   "source": [
    "**The Script**"
   ]
  },
  {
   "cell_type": "code",
   "execution_count": 128,
   "id": "66650e81-28cc-4064-9c02-63f54ebb6a1f",
   "metadata": {},
   "outputs": [],
   "source": [
    "# Lists to store the scraped data in\n",
    "names = []\n",
    "years = []\n",
    "imdb_ratings = []\n",
    "metascores = []\n",
    "votes = []\n",
    "\n",
    "for container in movie_containers:\n",
    " \n",
    "# If the movie has Metascore, then extract:\n",
    "    if container.find('span', class_ = 'sc-b0901df4-0 bcQdDJ metacritic-score-box') is not None:\n",
    "# The name\n",
    "     name = container.find('h3',class_='ipc-title__text').text[3:]\n",
    "     names.append(name)\n",
    "# The year\n",
    "     year = container.find('span', class_ = 'sc-b0691f29-8 ilsLEX dli-title-metadata-item').text\n",
    "     years.append(year)\n",
    "# The IMDB rating\n",
    "     imdb = container.find('span', class_ = 'ipc-rating-star ipc-rating-star--base ipc-rating-star--imdb ratingGroup--imdb-rating').text[:3]\n",
    "     imdb_ratings.append(imdb)\n",
    "# The Metascore\n",
    "     m_score = container.find('span', class_ = 'sc-b0901df4-0 bcQdDJ metacritic-score-box').text\n",
    "     metascores.append(int(m_score))\n",
    "# The number of votes\n",
    "     vote = container.find('span', class_ = 'ipc-rating-star--voteCount').text[2:-1]\n",
    "     votes.append(vote)"
   ]
  },
  {
   "cell_type": "code",
   "execution_count": 129,
   "id": "e701ffd1-0854-48f5-9df2-bd804149dd05",
   "metadata": {},
   "outputs": [
    {
     "name": "stdout",
     "output_type": "stream",
     "text": [
      "<class 'pandas.core.frame.DataFrame'>\n",
      "RangeIndex: 41 entries, 0 to 40\n",
      "Data columns (total 5 columns):\n",
      " #   Column     Non-Null Count  Dtype \n",
      "---  ------     --------------  ----- \n",
      " 0   movie      41 non-null     object\n",
      " 1   year       41 non-null     object\n",
      " 2   imdb       41 non-null     object\n",
      " 3   metascore  41 non-null     int64 \n",
      " 4   votes      41 non-null     object\n",
      "dtypes: int64(1), object(4)\n",
      "memory usage: 1.7+ KB\n",
      "None\n"
     ]
    },
    {
     "data": {
      "text/html": [
       "<div>\n",
       "<style scoped>\n",
       "    .dataframe tbody tr th:only-of-type {\n",
       "        vertical-align: middle;\n",
       "    }\n",
       "\n",
       "    .dataframe tbody tr th {\n",
       "        vertical-align: top;\n",
       "    }\n",
       "\n",
       "    .dataframe thead th {\n",
       "        text-align: right;\n",
       "    }\n",
       "</style>\n",
       "<table border=\"1\" class=\"dataframe\">\n",
       "  <thead>\n",
       "    <tr style=\"text-align: right;\">\n",
       "      <th></th>\n",
       "      <th>movie</th>\n",
       "      <th>year</th>\n",
       "      <th>imdb</th>\n",
       "      <th>metascore</th>\n",
       "      <th>votes</th>\n",
       "    </tr>\n",
       "  </thead>\n",
       "  <tbody>\n",
       "    <tr>\n",
       "      <th>0</th>\n",
       "      <td>Logan</td>\n",
       "      <td>2017</td>\n",
       "      <td>8.1</td>\n",
       "      <td>77</td>\n",
       "      <td>827K</td>\n",
       "    </tr>\n",
       "    <tr>\n",
       "      <th>1</th>\n",
       "      <td>Thor: Ragnarok</td>\n",
       "      <td>2017</td>\n",
       "      <td>7.9</td>\n",
       "      <td>74</td>\n",
       "      <td>813K</td>\n",
       "    </tr>\n",
       "    <tr>\n",
       "      <th>2</th>\n",
       "      <td>Guardians of the Galaxy Vol. 2</td>\n",
       "      <td>2017</td>\n",
       "      <td>7.6</td>\n",
       "      <td>67</td>\n",
       "      <td>756K</td>\n",
       "    </tr>\n",
       "    <tr>\n",
       "      <th>3</th>\n",
       "      <td>Dunkirk</td>\n",
       "      <td>2017</td>\n",
       "      <td>7.8</td>\n",
       "      <td>94</td>\n",
       "      <td>736K</td>\n",
       "    </tr>\n",
       "    <tr>\n",
       "      <th>4</th>\n",
       "      <td>Spider-Man: Homecoming</td>\n",
       "      <td>2017</td>\n",
       "      <td>7.4</td>\n",
       "      <td>73</td>\n",
       "      <td>716K</td>\n",
       "    </tr>\n",
       "    <tr>\n",
       "      <th>5</th>\n",
       "      <td>Wonder Woman</td>\n",
       "      <td>2017</td>\n",
       "      <td>7.3</td>\n",
       "      <td>76</td>\n",
       "      <td>698K</td>\n",
       "    </tr>\n",
       "    <tr>\n",
       "      <th>6</th>\n",
       "      <td>Get Out</td>\n",
       "      <td>2017</td>\n",
       "      <td>7.8</td>\n",
       "      <td>85</td>\n",
       "      <td>691K</td>\n",
       "    </tr>\n",
       "    <tr>\n",
       "      <th>7</th>\n",
       "      <td>Star Wars: Episode VIII - The Last Jedi</td>\n",
       "      <td>2017</td>\n",
       "      <td>6.9</td>\n",
       "      <td>84</td>\n",
       "      <td>670K</td>\n",
       "    </tr>\n",
       "    <tr>\n",
       "      <th>8</th>\n",
       "      <td>Blade Runner 2049</td>\n",
       "      <td>2017</td>\n",
       "      <td>8.0</td>\n",
       "      <td>81</td>\n",
       "      <td>658K</td>\n",
       "    </tr>\n",
       "    <tr>\n",
       "      <th>9</th>\n",
       "      <td>Baby Driver</td>\n",
       "      <td>2017</td>\n",
       "      <td>7.5</td>\n",
       "      <td>86</td>\n",
       "      <td>605K</td>\n",
       "    </tr>\n",
       "    <tr>\n",
       "      <th>10</th>\n",
       "      <td>It</td>\n",
       "      <td>2017</td>\n",
       "      <td>7.3</td>\n",
       "      <td>69</td>\n",
       "      <td>603K</td>\n",
       "    </tr>\n",
       "    <tr>\n",
       "      <th>11</th>\n",
       "      <td>Coco</td>\n",
       "      <td>2017</td>\n",
       "      <td>8.4</td>\n",
       "      <td>81</td>\n",
       "      <td>586K</td>\n",
       "    </tr>\n",
       "    <tr>\n",
       "      <th>12</th>\n",
       "      <td>Three Billboards Outside Ebbing, Missouri</td>\n",
       "      <td>2017</td>\n",
       "      <td>8.1</td>\n",
       "      <td>88</td>\n",
       "      <td>553K</td>\n",
       "    </tr>\n",
       "    <tr>\n",
       "      <th>13</th>\n",
       "      <td>John Wick: Chapter 2</td>\n",
       "      <td>2017</td>\n",
       "      <td>7.4</td>\n",
       "      <td>75</td>\n",
       "      <td>509K</td>\n",
       "    </tr>\n",
       "    <tr>\n",
       "      <th>14</th>\n",
       "      <td>Justice League</td>\n",
       "      <td>2017</td>\n",
       "      <td>6.1</td>\n",
       "      <td>45</td>\n",
       "      <td>477K</td>\n",
       "    </tr>\n",
       "    <tr>\n",
       "      <th>15</th>\n",
       "      <td>The Shape of Water</td>\n",
       "      <td>2017</td>\n",
       "      <td>7.3</td>\n",
       "      <td>87</td>\n",
       "      <td>446K</td>\n",
       "    </tr>\n",
       "    <tr>\n",
       "      <th>16</th>\n",
       "      <td>Jumanji: Welcome to the Jungle</td>\n",
       "      <td>2017</td>\n",
       "      <td>6.9</td>\n",
       "      <td>58</td>\n",
       "      <td>435K</td>\n",
       "    </tr>\n",
       "    <tr>\n",
       "      <th>17</th>\n",
       "      <td>Kingsman: The Golden Circle</td>\n",
       "      <td>2017</td>\n",
       "      <td>6.7</td>\n",
       "      <td>44</td>\n",
       "      <td>361K</td>\n",
       "    </tr>\n",
       "    <tr>\n",
       "      <th>18</th>\n",
       "      <td>Kong: Skull Island</td>\n",
       "      <td>2017</td>\n",
       "      <td>6.7</td>\n",
       "      <td>62</td>\n",
       "      <td>345K</td>\n",
       "    </tr>\n",
       "    <tr>\n",
       "      <th>19</th>\n",
       "      <td>Pirates of the Caribbean: Salazar's Revenge</td>\n",
       "      <td>2017</td>\n",
       "      <td>6.5</td>\n",
       "      <td>39</td>\n",
       "      <td>344K</td>\n",
       "    </tr>\n",
       "    <tr>\n",
       "      <th>20</th>\n",
       "      <td>Beauty and the Beast</td>\n",
       "      <td>2017</td>\n",
       "      <td>7.1</td>\n",
       "      <td>65</td>\n",
       "      <td>333K</td>\n",
       "    </tr>\n",
       "    <tr>\n",
       "      <th>21</th>\n",
       "      <td>Lady Bird</td>\n",
       "      <td>2017</td>\n",
       "      <td>7.4</td>\n",
       "      <td>93</td>\n",
       "      <td>326K</td>\n",
       "    </tr>\n",
       "    <tr>\n",
       "      <th>22</th>\n",
       "      <td>Call Me by Your Name</td>\n",
       "      <td>2017</td>\n",
       "      <td>7.8</td>\n",
       "      <td>94</td>\n",
       "      <td>313K</td>\n",
       "    </tr>\n",
       "    <tr>\n",
       "      <th>23</th>\n",
       "      <td>The Greatest Showman</td>\n",
       "      <td>2017</td>\n",
       "      <td>7.5</td>\n",
       "      <td>48</td>\n",
       "      <td>310K</td>\n",
       "    </tr>\n",
       "    <tr>\n",
       "      <th>24</th>\n",
       "      <td>Alien: Covenant</td>\n",
       "      <td>2017</td>\n",
       "      <td>6.4</td>\n",
       "      <td>65</td>\n",
       "      <td>302K</td>\n",
       "    </tr>\n",
       "    <tr>\n",
       "      <th>25</th>\n",
       "      <td>Murder on the Orient Express</td>\n",
       "      <td>2017</td>\n",
       "      <td>6.5</td>\n",
       "      <td>52</td>\n",
       "      <td>295K</td>\n",
       "    </tr>\n",
       "    <tr>\n",
       "      <th>26</th>\n",
       "      <td>War for the Planet of the Apes</td>\n",
       "      <td>2017</td>\n",
       "      <td>7.4</td>\n",
       "      <td>82</td>\n",
       "      <td>280K</td>\n",
       "    </tr>\n",
       "    <tr>\n",
       "      <th>27</th>\n",
       "      <td>Wind River</td>\n",
       "      <td>2017</td>\n",
       "      <td>7.7</td>\n",
       "      <td>73</td>\n",
       "      <td>279K</td>\n",
       "    </tr>\n",
       "    <tr>\n",
       "      <th>28</th>\n",
       "      <td>Fast &amp; Furious 8</td>\n",
       "      <td>2017</td>\n",
       "      <td>6.6</td>\n",
       "      <td>56</td>\n",
       "      <td>253K</td>\n",
       "    </tr>\n",
       "    <tr>\n",
       "      <th>29</th>\n",
       "      <td>Life</td>\n",
       "      <td>2017</td>\n",
       "      <td>6.6</td>\n",
       "      <td>54</td>\n",
       "      <td>252K</td>\n",
       "    </tr>\n",
       "    <tr>\n",
       "      <th>30</th>\n",
       "      <td>Mother!</td>\n",
       "      <td>2017</td>\n",
       "      <td>6.6</td>\n",
       "      <td>76</td>\n",
       "      <td>249K</td>\n",
       "    </tr>\n",
       "    <tr>\n",
       "      <th>31</th>\n",
       "      <td>The Hitman's Bodyguard</td>\n",
       "      <td>2017</td>\n",
       "      <td>6.9</td>\n",
       "      <td>47</td>\n",
       "      <td>246K</td>\n",
       "    </tr>\n",
       "    <tr>\n",
       "      <th>32</th>\n",
       "      <td>I, Tonya</td>\n",
       "      <td>2017</td>\n",
       "      <td>7.5</td>\n",
       "      <td>77</td>\n",
       "      <td>242K</td>\n",
       "    </tr>\n",
       "    <tr>\n",
       "      <th>33</th>\n",
       "      <td>King Arthur: Legend of the Sword</td>\n",
       "      <td>2017</td>\n",
       "      <td>6.7</td>\n",
       "      <td>41</td>\n",
       "      <td>232K</td>\n",
       "    </tr>\n",
       "    <tr>\n",
       "      <th>34</th>\n",
       "      <td>Ghost in the Shell</td>\n",
       "      <td>2017</td>\n",
       "      <td>6.3</td>\n",
       "      <td>52</td>\n",
       "      <td>227K</td>\n",
       "    </tr>\n",
       "    <tr>\n",
       "      <th>35</th>\n",
       "      <td>Darkest Hour</td>\n",
       "      <td>2017</td>\n",
       "      <td>7.4</td>\n",
       "      <td>75</td>\n",
       "      <td>220K</td>\n",
       "    </tr>\n",
       "    <tr>\n",
       "      <th>36</th>\n",
       "      <td>American Made</td>\n",
       "      <td>2017</td>\n",
       "      <td>7.1</td>\n",
       "      <td>65</td>\n",
       "      <td>207K</td>\n",
       "    </tr>\n",
       "    <tr>\n",
       "      <th>37</th>\n",
       "      <td>Atomic Blonde</td>\n",
       "      <td>2017</td>\n",
       "      <td>6.7</td>\n",
       "      <td>63</td>\n",
       "      <td>206K</td>\n",
       "    </tr>\n",
       "    <tr>\n",
       "      <th>38</th>\n",
       "      <td>The Mummy</td>\n",
       "      <td>2017</td>\n",
       "      <td>5.4</td>\n",
       "      <td>34</td>\n",
       "      <td>206K</td>\n",
       "    </tr>\n",
       "    <tr>\n",
       "      <th>39</th>\n",
       "      <td>Baywatch</td>\n",
       "      <td>2017</td>\n",
       "      <td>5.5</td>\n",
       "      <td>37</td>\n",
       "      <td>201K</td>\n",
       "    </tr>\n",
       "    <tr>\n",
       "      <th>40</th>\n",
       "      <td>Bright</td>\n",
       "      <td>2017</td>\n",
       "      <td>6.3</td>\n",
       "      <td>29</td>\n",
       "      <td>201K</td>\n",
       "    </tr>\n",
       "  </tbody>\n",
       "</table>\n",
       "</div>"
      ],
      "text/plain": [
       "                                           movie  year imdb  metascore votes\n",
       "0                                          Logan  2017  8.1         77  827K\n",
       "1                                 Thor: Ragnarok  2017  7.9         74  813K\n",
       "2                 Guardians of the Galaxy Vol. 2  2017  7.6         67  756K\n",
       "3                                        Dunkirk  2017  7.8         94  736K\n",
       "4                         Spider-Man: Homecoming  2017  7.4         73  716K\n",
       "5                                   Wonder Woman  2017  7.3         76  698K\n",
       "6                                        Get Out  2017  7.8         85  691K\n",
       "7        Star Wars: Episode VIII - The Last Jedi  2017  6.9         84  670K\n",
       "8                              Blade Runner 2049  2017  8.0         81  658K\n",
       "9                                    Baby Driver  2017  7.5         86  605K\n",
       "10                                            It  2017  7.3         69  603K\n",
       "11                                          Coco  2017  8.4         81  586K\n",
       "12     Three Billboards Outside Ebbing, Missouri  2017  8.1         88  553K\n",
       "13                          John Wick: Chapter 2  2017  7.4         75  509K\n",
       "14                                Justice League  2017  6.1         45  477K\n",
       "15                            The Shape of Water  2017  7.3         87  446K\n",
       "16                Jumanji: Welcome to the Jungle  2017  6.9         58  435K\n",
       "17                   Kingsman: The Golden Circle  2017  6.7         44  361K\n",
       "18                            Kong: Skull Island  2017  6.7         62  345K\n",
       "19   Pirates of the Caribbean: Salazar's Revenge  2017  6.5         39  344K\n",
       "20                          Beauty and the Beast  2017  7.1         65  333K\n",
       "21                                     Lady Bird  2017  7.4         93  326K\n",
       "22                          Call Me by Your Name  2017  7.8         94  313K\n",
       "23                          The Greatest Showman  2017  7.5         48  310K\n",
       "24                               Alien: Covenant  2017  6.4         65  302K\n",
       "25                  Murder on the Orient Express  2017  6.5         52  295K\n",
       "26                War for the Planet of the Apes  2017  7.4         82  280K\n",
       "27                                    Wind River  2017  7.7         73  279K\n",
       "28                              Fast & Furious 8  2017  6.6         56  253K\n",
       "29                                          Life  2017  6.6         54  252K\n",
       "30                                       Mother!  2017  6.6         76  249K\n",
       "31                        The Hitman's Bodyguard  2017  6.9         47  246K\n",
       "32                                      I, Tonya  2017  7.5         77  242K\n",
       "33              King Arthur: Legend of the Sword  2017  6.7         41  232K\n",
       "34                            Ghost in the Shell  2017  6.3         52  227K\n",
       "35                                  Darkest Hour  2017  7.4         75  220K\n",
       "36                                 American Made  2017  7.1         65  207K\n",
       "37                                 Atomic Blonde  2017  6.7         63  206K\n",
       "38                                     The Mummy  2017  5.4         34  206K\n",
       "39                                      Baywatch  2017  5.5         37  201K\n",
       "40                                        Bright  2017  6.3         29  201K"
      ]
     },
     "execution_count": 129,
     "metadata": {},
     "output_type": "execute_result"
    }
   ],
   "source": [
    "import pandas as pd\n",
    "\n",
    "# Creating a DataFrame called \"test_df\" to view all the samples in a table or dataframe\n",
    "test_df = pd.DataFrame({'movie': names,\n",
    "'year': years,\n",
    "'imdb': imdb_ratings,\n",
    "'metascore': metascores,\n",
    "'votes': votes\n",
    "})\n",
    "print(test_df.info())\n",
    "test_df"
   ]
  },
  {
   "cell_type": "markdown",
   "id": "48d157a6-5736-4416-9b3f-dd53de7f3df4",
   "metadata": {},
   "source": [
    "**The script for multiple pages**"
   ]
  },
  {
   "cell_type": "code",
   "execution_count": 167,
   "id": "71417ce8-4295-450c-9c39-20058d6fe83c",
   "metadata": {},
   "outputs": [
    {
     "name": "stdout",
     "output_type": "stream",
     "text": [
      "<!DOCTYPE html><html lang=\"en-US\" xmlns:og=\"http://opengraphprotocol.org/schema/\" xmlns:fb=\"http://www.facebook.com/2008/fbml\"><head><meta charSet=\"utf-8\"/><meta name=\"viewport\" content=\"width=device-width\"/><script>if(typeof uet === 'function'){ uet('bb', 'LoadTitle', {wb: 1}); }</script><script>window.addEventListener('load', (event) => {\n",
      "        if (typeof window.csa !== 'undefined' && typeof window.csa === 'function') {\n",
      "            var csaLatencyPlugin = window.csa('Content', {\n",
      "             \n",
      "Request:4; Frequency: 0.12141389900949838 requests/s\n"
     ]
    }
   ],
   "source": [
    "from time import time\n",
    "from time import sleep\n",
    "from requests import get\n",
    "from random import randint\n",
    "\n",
    "from IPython.core.display import clear_output\n",
    "pages = [ '1','2','3','4','5']\n",
    "years_url = [ '2017', '2018', '2019', '2020']\n",
    "\n",
    "# Redeclaring the lists to store data in\n",
    "names = []\n",
    "years = []\n",
    "imdb_ratings = []\n",
    "metascores = []\n",
    "votes = []\n",
    "\n",
    "# Preparing the monitoring of the loop\n",
    "start_time = time()\n",
    "requests = 0\n",
    "\n",
    "# For every year in the interval 2000-2017\n",
    "for year_url in years_url:\n",
    "        \n",
    "        # Make a get request\n",
    "        url = f\"https://www.imdb.com/search/title?release_date={year_url}-01-01,{year_url}-12-31&sort=num_votes,desc&page=1\"\n",
    "        agent = {\"User-Agent\":\"Mozilla/5.0 (Windows NT 10.0; Win64; x64) AppleWebKit/537.36 (KHTML, like Gecko) Chrome/123.0.0.0 Safari/537.36\"}\n",
    "        response = get(url,headers = agent)\n",
    "        print(response.text[:500])\n",
    "        \n",
    "        # Pause the loop\n",
    "        sleep(randint(1,5))\n",
    "        \n",
    "        # Monitor the requests\n",
    "        requests += 1\n",
    "        elapsed_time = time() - start_time\n",
    "        print('Request:{}; Frequency: {} requests/s'.format(requests, requests/elapsed_time))\n",
    "        clear_output(wait = True)\n",
    "        \n",
    "        # Throw a warning for non-200 status codes\n",
    "        if response.status_code != 200:\n",
    "            print('Request: {}; Status code: {}'.format(requests, response.status_code))\n",
    "            \n",
    "        # Break the loop if the number of requests is greater than expected\n",
    "        if requests > 72:\n",
    "            print('Number of requests was greater than expected.')\n",
    "            break\n",
    "        # Parse the content of the request with BeautifulSoup\n",
    "        page_html = BeautifulSoup(response.text, 'html.parser')\n",
    "        \n",
    "        # Select all the 50 movie containers from a single page\n",
    "        mv_containers = page_html.find_all('div', class_ = 'sc-ab6fa25a-3 bVYfLY dli-parent')\n",
    "        \n",
    "        # For every movie of these 50\n",
    "        for container in mv_containers:\n",
    "            # If the movie has a Metascore, then:\n",
    "            if container.find('span', class_ = 'sc-b0901df4-0 bcQdDJ metacritic-score-box') is not None:\n",
    "                # Scrape the name\n",
    "                name = container.find('h3',class_='ipc-title__text').text[3:]\n",
    "                names.append(name)\n",
    "                \n",
    "                # Scrape the year\n",
    "                year = container.find('span', class_ = 'sc-b0691f29-8 ilsLEX dli-title-metadata-item').text\n",
    "                years.append(year)\n",
    "                \n",
    "                # Scrape the IMDB rating\n",
    "                imdb = container.find('span', class_ = 'ipc-rating-star ipc-rating-star--base ipc-rating-star--imdb ratingGroup--imdb-rating').text[:3]\n",
    "                imdb_ratings.append(imdb)\n",
    "                \n",
    "                # Scrape the Metascore\n",
    "                m_score = container.find('span', class_ = 'sc-b0901df4-0 bcQdDJ metacritic-score-box').text\n",
    "                metascores.append(m_score)\n",
    "                \n",
    "                # Scrape the number of votes\n",
    "                vote = container.find('span', class_ = 'ipc-rating-star--voteCount').text[2:-1]\n",
    "                votes.append(vote)"
   ]
  },
  {
   "cell_type": "code",
   "execution_count": 154,
   "id": "9bd0cd90-91b2-4750-9f6b-d6c8ed241c7f",
   "metadata": {},
   "outputs": [
    {
     "name": "stdout",
     "output_type": "stream",
     "text": [
      "<class 'pandas.core.frame.DataFrame'>\n",
      "RangeIndex: 157 entries, 0 to 156\n",
      "Data columns (total 5 columns):\n",
      " #   Column     Non-Null Count  Dtype \n",
      "---  ------     --------------  ----- \n",
      " 0   movie      157 non-null    object\n",
      " 1   year       157 non-null    object\n",
      " 2   imdb       157 non-null    object\n",
      " 3   metascore  157 non-null    object\n",
      " 4   votes      157 non-null    object\n",
      "dtypes: object(5)\n",
      "memory usage: 6.3+ KB\n",
      "None\n"
     ]
    },
    {
     "data": {
      "text/html": [
       "<div>\n",
       "<style scoped>\n",
       "    .dataframe tbody tr th:only-of-type {\n",
       "        vertical-align: middle;\n",
       "    }\n",
       "\n",
       "    .dataframe tbody tr th {\n",
       "        vertical-align: top;\n",
       "    }\n",
       "\n",
       "    .dataframe thead th {\n",
       "        text-align: right;\n",
       "    }\n",
       "</style>\n",
       "<table border=\"1\" class=\"dataframe\">\n",
       "  <thead>\n",
       "    <tr style=\"text-align: right;\">\n",
       "      <th></th>\n",
       "      <th>movie</th>\n",
       "      <th>year</th>\n",
       "      <th>imdb</th>\n",
       "      <th>metascore</th>\n",
       "      <th>votes</th>\n",
       "    </tr>\n",
       "  </thead>\n",
       "  <tbody>\n",
       "    <tr>\n",
       "      <th>0</th>\n",
       "      <td>Logan</td>\n",
       "      <td>2017</td>\n",
       "      <td>8.1</td>\n",
       "      <td>77</td>\n",
       "      <td>827K</td>\n",
       "    </tr>\n",
       "    <tr>\n",
       "      <th>1</th>\n",
       "      <td>Thor: Ragnarok</td>\n",
       "      <td>2017</td>\n",
       "      <td>7.9</td>\n",
       "      <td>74</td>\n",
       "      <td>813K</td>\n",
       "    </tr>\n",
       "    <tr>\n",
       "      <th>2</th>\n",
       "      <td>Guardians of the Galaxy Vol. 2</td>\n",
       "      <td>2017</td>\n",
       "      <td>7.6</td>\n",
       "      <td>67</td>\n",
       "      <td>756K</td>\n",
       "    </tr>\n",
       "    <tr>\n",
       "      <th>3</th>\n",
       "      <td>Dunkirk</td>\n",
       "      <td>2017</td>\n",
       "      <td>7.8</td>\n",
       "      <td>94</td>\n",
       "      <td>736K</td>\n",
       "    </tr>\n",
       "    <tr>\n",
       "      <th>4</th>\n",
       "      <td>Spider-Man: Homecoming</td>\n",
       "      <td>2017</td>\n",
       "      <td>7.4</td>\n",
       "      <td>73</td>\n",
       "      <td>716K</td>\n",
       "    </tr>\n",
       "    <tr>\n",
       "      <th>5</th>\n",
       "      <td>Wonder Woman</td>\n",
       "      <td>2017</td>\n",
       "      <td>7.3</td>\n",
       "      <td>76</td>\n",
       "      <td>698K</td>\n",
       "    </tr>\n",
       "    <tr>\n",
       "      <th>6</th>\n",
       "      <td>Get Out</td>\n",
       "      <td>2017</td>\n",
       "      <td>7.8</td>\n",
       "      <td>85</td>\n",
       "      <td>691K</td>\n",
       "    </tr>\n",
       "    <tr>\n",
       "      <th>7</th>\n",
       "      <td>Star Wars: Episode VIII - The Last Jedi</td>\n",
       "      <td>2017</td>\n",
       "      <td>6.9</td>\n",
       "      <td>84</td>\n",
       "      <td>670K</td>\n",
       "    </tr>\n",
       "    <tr>\n",
       "      <th>8</th>\n",
       "      <td>Blade Runner 2049</td>\n",
       "      <td>2017</td>\n",
       "      <td>8.0</td>\n",
       "      <td>81</td>\n",
       "      <td>658K</td>\n",
       "    </tr>\n",
       "    <tr>\n",
       "      <th>9</th>\n",
       "      <td>Baby Driver</td>\n",
       "      <td>2017</td>\n",
       "      <td>7.5</td>\n",
       "      <td>86</td>\n",
       "      <td>605K</td>\n",
       "    </tr>\n",
       "  </tbody>\n",
       "</table>\n",
       "</div>"
      ],
      "text/plain": [
       "                                     movie  year imdb metascore votes\n",
       "0                                    Logan  2017  8.1        77  827K\n",
       "1                           Thor: Ragnarok  2017  7.9        74  813K\n",
       "2           Guardians of the Galaxy Vol. 2  2017  7.6        67  756K\n",
       "3                                  Dunkirk  2017  7.8        94  736K\n",
       "4                   Spider-Man: Homecoming  2017  7.4        73  716K\n",
       "5                             Wonder Woman  2017  7.3        76  698K\n",
       "6                                  Get Out  2017  7.8        85  691K\n",
       "7  Star Wars: Episode VIII - The Last Jedi  2017  6.9        84  670K\n",
       "8                        Blade Runner 2049  2017  8.0        81  658K\n",
       "9                              Baby Driver  2017  7.5        86  605K"
      ]
     },
     "execution_count": 154,
     "metadata": {},
     "output_type": "execute_result"
    }
   ],
   "source": [
    "movie_ratings = pd.DataFrame({'movie': names,\n",
    "'year': years,\n",
    "'imdb': imdb_ratings,\n",
    "'metascore': metascores,\n",
    "'votes': votes\n",
    "})\n",
    "print(movie_ratings.info())\n",
    "movie_ratings.head(10)"
   ]
  },
  {
   "cell_type": "code",
   "execution_count": 155,
   "id": "aebc3514-8c3d-4e24-a1c3-3a7d03646267",
   "metadata": {},
   "outputs": [
    {
     "data": {
      "text/html": [
       "<div>\n",
       "<style scoped>\n",
       "    .dataframe tbody tr th:only-of-type {\n",
       "        vertical-align: middle;\n",
       "    }\n",
       "\n",
       "    .dataframe tbody tr th {\n",
       "        vertical-align: top;\n",
       "    }\n",
       "\n",
       "    .dataframe thead th {\n",
       "        text-align: right;\n",
       "    }\n",
       "</style>\n",
       "<table border=\"1\" class=\"dataframe\">\n",
       "  <thead>\n",
       "    <tr style=\"text-align: right;\">\n",
       "      <th></th>\n",
       "      <th>movie</th>\n",
       "      <th>year</th>\n",
       "      <th>imdb</th>\n",
       "      <th>metascore</th>\n",
       "      <th>votes</th>\n",
       "    </tr>\n",
       "  </thead>\n",
       "  <tbody>\n",
       "    <tr>\n",
       "      <th>147</th>\n",
       "      <td>The Hunt</td>\n",
       "      <td>2020</td>\n",
       "      <td>6.5</td>\n",
       "      <td>50</td>\n",
       "      <td>128K</td>\n",
       "    </tr>\n",
       "    <tr>\n",
       "      <th>148</th>\n",
       "      <td>Greyhound</td>\n",
       "      <td>2020</td>\n",
       "      <td>7.0</td>\n",
       "      <td>64</td>\n",
       "      <td>114K</td>\n",
       "    </tr>\n",
       "    <tr>\n",
       "      <th>149</th>\n",
       "      <td>Hamilton</td>\n",
       "      <td>2020</td>\n",
       "      <td>8.3</td>\n",
       "      <td>88</td>\n",
       "      <td>112K</td>\n",
       "    </tr>\n",
       "    <tr>\n",
       "      <th>150</th>\n",
       "      <td>Eurovision Song Contest: The Story of Fire Saga</td>\n",
       "      <td>2020</td>\n",
       "      <td>6.5</td>\n",
       "      <td>50</td>\n",
       "      <td>102K</td>\n",
       "    </tr>\n",
       "    <tr>\n",
       "      <th>151</th>\n",
       "      <td>I'm Thinking of Ending Things</td>\n",
       "      <td>2020</td>\n",
       "      <td>6.6</td>\n",
       "      <td>78</td>\n",
       "      <td>99K</td>\n",
       "    </tr>\n",
       "    <tr>\n",
       "      <th>152</th>\n",
       "      <td>Project Power</td>\n",
       "      <td>2020</td>\n",
       "      <td>6.0</td>\n",
       "      <td>51</td>\n",
       "      <td>97K</td>\n",
       "    </tr>\n",
       "    <tr>\n",
       "      <th>153</th>\n",
       "      <td>Spenser Confidential</td>\n",
       "      <td>2020</td>\n",
       "      <td>6.2</td>\n",
       "      <td>49</td>\n",
       "      <td>97K</td>\n",
       "    </tr>\n",
       "    <tr>\n",
       "      <th>154</th>\n",
       "      <td>Underwater</td>\n",
       "      <td>2020</td>\n",
       "      <td>5.9</td>\n",
       "      <td>48</td>\n",
       "      <td>97K</td>\n",
       "    </tr>\n",
       "    <tr>\n",
       "      <th>155</th>\n",
       "      <td>Minari</td>\n",
       "      <td>2020</td>\n",
       "      <td>7.4</td>\n",
       "      <td>89</td>\n",
       "      <td>96K</td>\n",
       "    </tr>\n",
       "    <tr>\n",
       "      <th>156</th>\n",
       "      <td>News of the World</td>\n",
       "      <td>2020</td>\n",
       "      <td>6.8</td>\n",
       "      <td>73</td>\n",
       "      <td>95K</td>\n",
       "    </tr>\n",
       "  </tbody>\n",
       "</table>\n",
       "</div>"
      ],
      "text/plain": [
       "                                                movie  year imdb metascore  \\\n",
       "147                                          The Hunt  2020  6.5        50   \n",
       "148                                         Greyhound  2020  7.0        64   \n",
       "149                                          Hamilton  2020  8.3        88   \n",
       "150   Eurovision Song Contest: The Story of Fire Saga  2020  6.5        50   \n",
       "151                     I'm Thinking of Ending Things  2020  6.6        78   \n",
       "152                                     Project Power  2020  6.0        51   \n",
       "153                              Spenser Confidential  2020  6.2        49   \n",
       "154                                        Underwater  2020  5.9        48   \n",
       "155                                            Minari  2020  7.4        89   \n",
       "156                                 News of the World  2020  6.8        73   \n",
       "\n",
       "    votes  \n",
       "147  128K  \n",
       "148  114K  \n",
       "149  112K  \n",
       "150  102K  \n",
       "151   99K  \n",
       "152   97K  \n",
       "153   97K  \n",
       "154   97K  \n",
       "155   96K  \n",
       "156   95K  "
      ]
     },
     "execution_count": 155,
     "metadata": {},
     "output_type": "execute_result"
    }
   ],
   "source": [
    "movie_ratings.tail(10)"
   ]
  },
  {
   "cell_type": "code",
   "execution_count": 157,
   "id": "16c256a9-2b3e-45c8-824c-61fe0c3b1267",
   "metadata": {},
   "outputs": [],
   "source": [
    "movie_ratings.to_csv('movie_ratings.csv')"
   ]
  },
  {
   "cell_type": "markdown",
   "id": "0d6afdf2-56ff-4416-8b25-b546fd8ca654",
   "metadata": {},
   "source": [
    "# **Data Preparation**"
   ]
  },
  {
   "cell_type": "markdown",
   "id": "c476f2d3-1127-4a1d-9e26-023e786eab1b",
   "metadata": {},
   "source": [
    "**Example of Data Preparation of movie_rating.csv**"
   ]
  },
  {
   "cell_type": "code",
   "execution_count": 158,
   "id": "2e381d50-afc9-4eee-a7bd-a0c4349b016c",
   "metadata": {},
   "outputs": [],
   "source": [
    "movie_ratings = pd.read_csv('movie_ratings.csv')"
   ]
  },
  {
   "cell_type": "code",
   "execution_count": 159,
   "id": "9f0a6273-0073-4782-a711-9f3950c2ad56",
   "metadata": {},
   "outputs": [
    {
     "data": {
      "text/plain": [
       "array([2017, 2018, 2019, 2020], dtype=int64)"
      ]
     },
     "execution_count": 159,
     "metadata": {},
     "output_type": "execute_result"
    }
   ],
   "source": [
    "movie_ratings['year'].unique()"
   ]
  },
  {
   "cell_type": "code",
   "execution_count": 160,
   "id": "215381b6-1bfc-40fc-bbd6-d617e7ad1918",
   "metadata": {},
   "outputs": [
    {
     "data": {
      "text/plain": [
       "Unnamed: 0      int64\n",
       "movie          object\n",
       "year            int64\n",
       "imdb          float64\n",
       "metascore       int64\n",
       "votes          object\n",
       "dtype: object"
      ]
     },
     "execution_count": 160,
     "metadata": {},
     "output_type": "execute_result"
    }
   ],
   "source": [
    "movie_ratings.dtypes"
   ]
  },
  {
   "cell_type": "code",
   "execution_count": 161,
   "id": "5932f884-a108-4a40-8096-856a5d1ee74d",
   "metadata": {},
   "outputs": [],
   "source": [
    "movie_ratings['year'] = movie_ratings['year'].astype(int)"
   ]
  },
  {
   "cell_type": "code",
   "execution_count": 162,
   "id": "f97f8fb3-34a0-4752-97ba-c237a3955641",
   "metadata": {},
   "outputs": [
    {
     "data": {
      "text/plain": [
       "array([2017, 2018, 2019, 2020])"
      ]
     },
     "execution_count": 162,
     "metadata": {},
     "output_type": "execute_result"
    }
   ],
   "source": [
    "movie_ratings['year'].unique()"
   ]
  },
  {
   "cell_type": "code",
   "execution_count": 163,
   "id": "0e48b15d-a2a3-4475-9ce0-0a337283175e",
   "metadata": {},
   "outputs": [
    {
     "data": {
      "text/plain": [
       "Unnamed: 0      int64\n",
       "movie          object\n",
       "year            int32\n",
       "imdb          float64\n",
       "metascore       int64\n",
       "votes          object\n",
       "dtype: object"
      ]
     },
     "execution_count": 163,
     "metadata": {},
     "output_type": "execute_result"
    }
   ],
   "source": [
    "movie_ratings.dtypes"
   ]
  },
  {
   "cell_type": "code",
   "execution_count": 164,
   "id": "919a578e-c414-4d2a-928d-7d4860608893",
   "metadata": {},
   "outputs": [
    {
     "data": {
      "text/html": [
       "<div>\n",
       "<style scoped>\n",
       "    .dataframe tbody tr th:only-of-type {\n",
       "        vertical-align: middle;\n",
       "    }\n",
       "\n",
       "    .dataframe tbody tr th {\n",
       "        vertical-align: top;\n",
       "    }\n",
       "\n",
       "    .dataframe thead th {\n",
       "        text-align: right;\n",
       "    }\n",
       "</style>\n",
       "<table border=\"1\" class=\"dataframe\">\n",
       "  <thead>\n",
       "    <tr style=\"text-align: right;\">\n",
       "      <th></th>\n",
       "      <th>Unnamed: 0</th>\n",
       "      <th>movie</th>\n",
       "      <th>year</th>\n",
       "      <th>imdb</th>\n",
       "      <th>metascore</th>\n",
       "      <th>votes</th>\n",
       "    </tr>\n",
       "  </thead>\n",
       "  <tbody>\n",
       "    <tr>\n",
       "      <th>0</th>\n",
       "      <td>0</td>\n",
       "      <td>Logan</td>\n",
       "      <td>2017</td>\n",
       "      <td>8.1</td>\n",
       "      <td>77</td>\n",
       "      <td>827K</td>\n",
       "    </tr>\n",
       "    <tr>\n",
       "      <th>1</th>\n",
       "      <td>1</td>\n",
       "      <td>Thor: Ragnarok</td>\n",
       "      <td>2017</td>\n",
       "      <td>7.9</td>\n",
       "      <td>74</td>\n",
       "      <td>813K</td>\n",
       "    </tr>\n",
       "    <tr>\n",
       "      <th>2</th>\n",
       "      <td>2</td>\n",
       "      <td>Guardians of the Galaxy Vol. 2</td>\n",
       "      <td>2017</td>\n",
       "      <td>7.6</td>\n",
       "      <td>67</td>\n",
       "      <td>756K</td>\n",
       "    </tr>\n",
       "    <tr>\n",
       "      <th>3</th>\n",
       "      <td>3</td>\n",
       "      <td>Dunkirk</td>\n",
       "      <td>2017</td>\n",
       "      <td>7.8</td>\n",
       "      <td>94</td>\n",
       "      <td>736K</td>\n",
       "    </tr>\n",
       "    <tr>\n",
       "      <th>4</th>\n",
       "      <td>4</td>\n",
       "      <td>Spider-Man: Homecoming</td>\n",
       "      <td>2017</td>\n",
       "      <td>7.4</td>\n",
       "      <td>73</td>\n",
       "      <td>716K</td>\n",
       "    </tr>\n",
       "    <tr>\n",
       "      <th>5</th>\n",
       "      <td>5</td>\n",
       "      <td>Wonder Woman</td>\n",
       "      <td>2017</td>\n",
       "      <td>7.3</td>\n",
       "      <td>76</td>\n",
       "      <td>698K</td>\n",
       "    </tr>\n",
       "    <tr>\n",
       "      <th>6</th>\n",
       "      <td>6</td>\n",
       "      <td>Get Out</td>\n",
       "      <td>2017</td>\n",
       "      <td>7.8</td>\n",
       "      <td>85</td>\n",
       "      <td>691K</td>\n",
       "    </tr>\n",
       "    <tr>\n",
       "      <th>7</th>\n",
       "      <td>7</td>\n",
       "      <td>Star Wars: Episode VIII - The Last Jedi</td>\n",
       "      <td>2017</td>\n",
       "      <td>6.9</td>\n",
       "      <td>84</td>\n",
       "      <td>670K</td>\n",
       "    </tr>\n",
       "    <tr>\n",
       "      <th>8</th>\n",
       "      <td>8</td>\n",
       "      <td>Blade Runner 2049</td>\n",
       "      <td>2017</td>\n",
       "      <td>8.0</td>\n",
       "      <td>81</td>\n",
       "      <td>658K</td>\n",
       "    </tr>\n",
       "    <tr>\n",
       "      <th>9</th>\n",
       "      <td>9</td>\n",
       "      <td>Baby Driver</td>\n",
       "      <td>2017</td>\n",
       "      <td>7.5</td>\n",
       "      <td>86</td>\n",
       "      <td>605K</td>\n",
       "    </tr>\n",
       "  </tbody>\n",
       "</table>\n",
       "</div>"
      ],
      "text/plain": [
       "   Unnamed: 0                                    movie  year  imdb  metascore  \\\n",
       "0           0                                    Logan  2017   8.1         77   \n",
       "1           1                           Thor: Ragnarok  2017   7.9         74   \n",
       "2           2           Guardians of the Galaxy Vol. 2  2017   7.6         67   \n",
       "3           3                                  Dunkirk  2017   7.8         94   \n",
       "4           4                   Spider-Man: Homecoming  2017   7.4         73   \n",
       "5           5                             Wonder Woman  2017   7.3         76   \n",
       "6           6                                  Get Out  2017   7.8         85   \n",
       "7           7  Star Wars: Episode VIII - The Last Jedi  2017   6.9         84   \n",
       "8           8                        Blade Runner 2049  2017   8.0         81   \n",
       "9           9                              Baby Driver  2017   7.5         86   \n",
       "\n",
       "  votes  \n",
       "0  827K  \n",
       "1  813K  \n",
       "2  756K  \n",
       "3  736K  \n",
       "4  716K  \n",
       "5  698K  \n",
       "6  691K  \n",
       "7  670K  \n",
       "8  658K  \n",
       "9  605K  "
      ]
     },
     "execution_count": 164,
     "metadata": {},
     "output_type": "execute_result"
    }
   ],
   "source": [
    "movie_ratings.head(10)"
   ]
  },
  {
   "cell_type": "code",
   "execution_count": 165,
   "id": "636d35de-d02b-48b1-9eef-3483aac6517e",
   "metadata": {},
   "outputs": [
    {
     "data": {
      "text/html": [
       "<div>\n",
       "<style scoped>\n",
       "    .dataframe tbody tr th:only-of-type {\n",
       "        vertical-align: middle;\n",
       "    }\n",
       "\n",
       "    .dataframe tbody tr th {\n",
       "        vertical-align: top;\n",
       "    }\n",
       "\n",
       "    .dataframe thead th {\n",
       "        text-align: right;\n",
       "    }\n",
       "</style>\n",
       "<table border=\"1\" class=\"dataframe\">\n",
       "  <thead>\n",
       "    <tr style=\"text-align: right;\">\n",
       "      <th></th>\n",
       "      <th>Unnamed: 0</th>\n",
       "      <th>movie</th>\n",
       "      <th>year</th>\n",
       "      <th>imdb</th>\n",
       "      <th>metascore</th>\n",
       "      <th>votes</th>\n",
       "    </tr>\n",
       "  </thead>\n",
       "  <tbody>\n",
       "    <tr>\n",
       "      <th>147</th>\n",
       "      <td>147</td>\n",
       "      <td>The Hunt</td>\n",
       "      <td>2020</td>\n",
       "      <td>6.5</td>\n",
       "      <td>50</td>\n",
       "      <td>128K</td>\n",
       "    </tr>\n",
       "    <tr>\n",
       "      <th>148</th>\n",
       "      <td>148</td>\n",
       "      <td>Greyhound</td>\n",
       "      <td>2020</td>\n",
       "      <td>7.0</td>\n",
       "      <td>64</td>\n",
       "      <td>114K</td>\n",
       "    </tr>\n",
       "    <tr>\n",
       "      <th>149</th>\n",
       "      <td>149</td>\n",
       "      <td>Hamilton</td>\n",
       "      <td>2020</td>\n",
       "      <td>8.3</td>\n",
       "      <td>88</td>\n",
       "      <td>112K</td>\n",
       "    </tr>\n",
       "    <tr>\n",
       "      <th>150</th>\n",
       "      <td>150</td>\n",
       "      <td>Eurovision Song Contest: The Story of Fire Saga</td>\n",
       "      <td>2020</td>\n",
       "      <td>6.5</td>\n",
       "      <td>50</td>\n",
       "      <td>102K</td>\n",
       "    </tr>\n",
       "    <tr>\n",
       "      <th>151</th>\n",
       "      <td>151</td>\n",
       "      <td>I'm Thinking of Ending Things</td>\n",
       "      <td>2020</td>\n",
       "      <td>6.6</td>\n",
       "      <td>78</td>\n",
       "      <td>99K</td>\n",
       "    </tr>\n",
       "    <tr>\n",
       "      <th>152</th>\n",
       "      <td>152</td>\n",
       "      <td>Project Power</td>\n",
       "      <td>2020</td>\n",
       "      <td>6.0</td>\n",
       "      <td>51</td>\n",
       "      <td>97K</td>\n",
       "    </tr>\n",
       "    <tr>\n",
       "      <th>153</th>\n",
       "      <td>153</td>\n",
       "      <td>Spenser Confidential</td>\n",
       "      <td>2020</td>\n",
       "      <td>6.2</td>\n",
       "      <td>49</td>\n",
       "      <td>97K</td>\n",
       "    </tr>\n",
       "    <tr>\n",
       "      <th>154</th>\n",
       "      <td>154</td>\n",
       "      <td>Underwater</td>\n",
       "      <td>2020</td>\n",
       "      <td>5.9</td>\n",
       "      <td>48</td>\n",
       "      <td>97K</td>\n",
       "    </tr>\n",
       "    <tr>\n",
       "      <th>155</th>\n",
       "      <td>155</td>\n",
       "      <td>Minari</td>\n",
       "      <td>2020</td>\n",
       "      <td>7.4</td>\n",
       "      <td>89</td>\n",
       "      <td>96K</td>\n",
       "    </tr>\n",
       "    <tr>\n",
       "      <th>156</th>\n",
       "      <td>156</td>\n",
       "      <td>News of the World</td>\n",
       "      <td>2020</td>\n",
       "      <td>6.8</td>\n",
       "      <td>73</td>\n",
       "      <td>95K</td>\n",
       "    </tr>\n",
       "  </tbody>\n",
       "</table>\n",
       "</div>"
      ],
      "text/plain": [
       "     Unnamed: 0                                             movie  year  imdb  \\\n",
       "147         147                                          The Hunt  2020   6.5   \n",
       "148         148                                         Greyhound  2020   7.0   \n",
       "149         149                                          Hamilton  2020   8.3   \n",
       "150         150   Eurovision Song Contest: The Story of Fire Saga  2020   6.5   \n",
       "151         151                     I'm Thinking of Ending Things  2020   6.6   \n",
       "152         152                                     Project Power  2020   6.0   \n",
       "153         153                              Spenser Confidential  2020   6.2   \n",
       "154         154                                        Underwater  2020   5.9   \n",
       "155         155                                            Minari  2020   7.4   \n",
       "156         156                                 News of the World  2020   6.8   \n",
       "\n",
       "     metascore votes  \n",
       "147         50  128K  \n",
       "148         64  114K  \n",
       "149         88  112K  \n",
       "150         50  102K  \n",
       "151         78   99K  \n",
       "152         51   97K  \n",
       "153         49   97K  \n",
       "154         48   97K  \n",
       "155         89   96K  \n",
       "156         73   95K  "
      ]
     },
     "execution_count": 165,
     "metadata": {},
     "output_type": "execute_result"
    }
   ],
   "source": [
    "movie_ratings.tail(10)"
   ]
  },
  {
   "cell_type": "code",
   "execution_count": 166,
   "id": "2d696774-8c60-48ff-927d-3fe86c9dc165",
   "metadata": {},
   "outputs": [
    {
     "data": {
      "text/html": [
       "<div>\n",
       "<style scoped>\n",
       "    .dataframe tbody tr th:only-of-type {\n",
       "        vertical-align: middle;\n",
       "    }\n",
       "\n",
       "    .dataframe tbody tr th {\n",
       "        vertical-align: top;\n",
       "    }\n",
       "\n",
       "    .dataframe thead th {\n",
       "        text-align: right;\n",
       "    }\n",
       "</style>\n",
       "<table border=\"1\" class=\"dataframe\">\n",
       "  <thead>\n",
       "    <tr style=\"text-align: right;\">\n",
       "      <th></th>\n",
       "      <th>Unnamed: 0</th>\n",
       "      <th>movie</th>\n",
       "      <th>year</th>\n",
       "      <th>imdb</th>\n",
       "      <th>metascore</th>\n",
       "      <th>votes</th>\n",
       "    </tr>\n",
       "  </thead>\n",
       "  <tbody>\n",
       "    <tr>\n",
       "      <th>0</th>\n",
       "      <td>0</td>\n",
       "      <td>Logan</td>\n",
       "      <td>2017</td>\n",
       "      <td>8.1</td>\n",
       "      <td>77</td>\n",
       "      <td>827K</td>\n",
       "    </tr>\n",
       "    <tr>\n",
       "      <th>1</th>\n",
       "      <td>1</td>\n",
       "      <td>Thor: Ragnarok</td>\n",
       "      <td>2017</td>\n",
       "      <td>7.9</td>\n",
       "      <td>74</td>\n",
       "      <td>813K</td>\n",
       "    </tr>\n",
       "    <tr>\n",
       "      <th>2</th>\n",
       "      <td>2</td>\n",
       "      <td>Guardians of the Galaxy Vol. 2</td>\n",
       "      <td>2017</td>\n",
       "      <td>7.6</td>\n",
       "      <td>67</td>\n",
       "      <td>756K</td>\n",
       "    </tr>\n",
       "    <tr>\n",
       "      <th>3</th>\n",
       "      <td>3</td>\n",
       "      <td>Dunkirk</td>\n",
       "      <td>2017</td>\n",
       "      <td>7.8</td>\n",
       "      <td>94</td>\n",
       "      <td>736K</td>\n",
       "    </tr>\n",
       "    <tr>\n",
       "      <th>4</th>\n",
       "      <td>4</td>\n",
       "      <td>Spider-Man: Homecoming</td>\n",
       "      <td>2017</td>\n",
       "      <td>7.4</td>\n",
       "      <td>73</td>\n",
       "      <td>716K</td>\n",
       "    </tr>\n",
       "    <tr>\n",
       "      <th>...</th>\n",
       "      <td>...</td>\n",
       "      <td>...</td>\n",
       "      <td>...</td>\n",
       "      <td>...</td>\n",
       "      <td>...</td>\n",
       "      <td>...</td>\n",
       "    </tr>\n",
       "    <tr>\n",
       "      <th>152</th>\n",
       "      <td>152</td>\n",
       "      <td>Project Power</td>\n",
       "      <td>2020</td>\n",
       "      <td>6.0</td>\n",
       "      <td>51</td>\n",
       "      <td>97K</td>\n",
       "    </tr>\n",
       "    <tr>\n",
       "      <th>153</th>\n",
       "      <td>153</td>\n",
       "      <td>Spenser Confidential</td>\n",
       "      <td>2020</td>\n",
       "      <td>6.2</td>\n",
       "      <td>49</td>\n",
       "      <td>97K</td>\n",
       "    </tr>\n",
       "    <tr>\n",
       "      <th>154</th>\n",
       "      <td>154</td>\n",
       "      <td>Underwater</td>\n",
       "      <td>2020</td>\n",
       "      <td>5.9</td>\n",
       "      <td>48</td>\n",
       "      <td>97K</td>\n",
       "    </tr>\n",
       "    <tr>\n",
       "      <th>155</th>\n",
       "      <td>155</td>\n",
       "      <td>Minari</td>\n",
       "      <td>2020</td>\n",
       "      <td>7.4</td>\n",
       "      <td>89</td>\n",
       "      <td>96K</td>\n",
       "    </tr>\n",
       "    <tr>\n",
       "      <th>156</th>\n",
       "      <td>156</td>\n",
       "      <td>News of the World</td>\n",
       "      <td>2020</td>\n",
       "      <td>6.8</td>\n",
       "      <td>73</td>\n",
       "      <td>95K</td>\n",
       "    </tr>\n",
       "  </tbody>\n",
       "</table>\n",
       "<p>157 rows × 6 columns</p>\n",
       "</div>"
      ],
      "text/plain": [
       "     Unnamed: 0                           movie  year  imdb  metascore votes\n",
       "0             0                           Logan  2017   8.1         77  827K\n",
       "1             1                  Thor: Ragnarok  2017   7.9         74  813K\n",
       "2             2  Guardians of the Galaxy Vol. 2  2017   7.6         67  756K\n",
       "3             3                         Dunkirk  2017   7.8         94  736K\n",
       "4             4          Spider-Man: Homecoming  2017   7.4         73  716K\n",
       "..          ...                             ...   ...   ...        ...   ...\n",
       "152         152                   Project Power  2020   6.0         51   97K\n",
       "153         153            Spenser Confidential  2020   6.2         49   97K\n",
       "154         154                      Underwater  2020   5.9         48   97K\n",
       "155         155                          Minari  2020   7.4         89   96K\n",
       "156         156               News of the World  2020   6.8         73   95K\n",
       "\n",
       "[157 rows x 6 columns]"
      ]
     },
     "execution_count": 166,
     "metadata": {},
     "output_type": "execute_result"
    }
   ],
   "source": [
    "movie_ratings"
   ]
  }
 ],
 "metadata": {
  "kernelspec": {
   "display_name": "Python 3 (ipykernel)",
   "language": "python",
   "name": "python3"
  },
  "language_info": {
   "codemirror_mode": {
    "name": "ipython",
    "version": 3
   },
   "file_extension": ".py",
   "mimetype": "text/x-python",
   "name": "python",
   "nbconvert_exporter": "python",
   "pygments_lexer": "ipython3",
   "version": "3.11.7"
  }
 },
 "nbformat": 4,
 "nbformat_minor": 5
}
